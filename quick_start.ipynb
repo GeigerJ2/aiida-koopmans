{
  "cells": [
    {
      "cell_type": "code",
      "execution_count": 7,
      "metadata": {},
      "outputs": [
        {
          "data": {
            "text/plain": [
              "Profile<uuid='5ca88b1d2d41436bb1747cc5c08179db' name='default'>"
            ]
          },
          "execution_count": 7,
          "metadata": {},
          "output_type": "execute_result"
        }
      ],
      "source": [
        "from aiida import load_profile, orm\n",
        "load_profile()"
      ]
    },
    {
      "cell_type": "code",
      "execution_count": 8,
      "metadata": {},
      "outputs": [],
      "source": [
        "from aiida_worktree import node\n",
        "\n",
        "# define add node\n",
        "@node.calcfunction()\n",
        "def add(x, y):\n",
        "    return x + y\n",
        "\n",
        "# define multiply node\n",
        "@node.calcfunction()\n",
        "def multiply(x, y):\n",
        "    return x*y"
      ]
    },
    {
      "cell_type": "code",
      "execution_count": 9,
      "metadata": {},
      "outputs": [],
      "source": [
        "from aiida_worktree import WorkTree\n",
        "from aiida import orm\n",
        "\n",
        "wt = WorkTree(\"first_workflow\")\n",
        "wt.nodes.new(add, name=\"add1\", x=orm.Int(2), y=orm.Int(3))\n",
        "wt.nodes.new(add, name=\"add2\", x=orm.Int(2))\n",
        "wt.links.new(wt.nodes[\"add1\"].outputs[0], wt.nodes[\"add2\"].inputs[\"y\"])\n"
      ]
    },
    {
      "cell_type": "code",
      "execution_count": 10,
      "metadata": {},
      "outputs": [
        {
          "name": "stdout",
          "output_type": "stream",
          "text": [
            "WorkTree node created, PK: 939\n"
          ]
        }
      ],
      "source": [
        "wt.submit(wait=True)"
      ]
    },
    {
      "cell_type": "code",
      "execution_count": 11,
      "metadata": {},
      "outputs": [
        {
          "name": "stdout",
          "output_type": "stream",
          "text": [
            "State of WorkTree:   FINISHED\n",
            "Result of add      : 5\n",
            "Result of multiply : 7\n"
          ]
        }
      ],
      "source": [
        "print(\"State of WorkTree:   {}\".format(wt.state))\n",
        "print('Result of add      : {}'.format(wt.nodes[\"add1\"].node.outputs.result.value))\n",
        "print('Result of multiply : {}'.format(wt.nodes[\"add2\"].node.outputs.result.value))"
      ]
    },
    {
      "cell_type": "markdown",
      "metadata": {},
      "source": [
        "## Basics: scf+kc conversion."
      ]
    },
    {
      "cell_type": "code",
      "execution_count": 12,
      "metadata": {},
      "outputs": [],
      "source": [
        "from aiida_worktree import build_node\n",
        "ndata = {\"path\": \"aiida_koopmans.calculations.kcw.KcwCalculation\"}\n",
        "kcw_calcjob = build_node(ndata)\n",
        "\n",
        "ndata = {\"path\": \"aiida_quantumespresso.workflows.pw.base.PwBaseWorkChain\"}\n",
        "pw_baseWchain = build_node(ndata)"
      ]
    },
    {
      "cell_type": "code",
      "execution_count": 13,
      "metadata": {},
      "outputs": [
        {
          "name": "stdout",
          "output_type": "stream",
          "text": [
            "Inputs:\n",
            "  - metadata\n",
            "  - code\n",
            "  - monitors\n",
            "  - remote_folder\n",
            "  - parameters\n",
            "  - settings\n",
            "  - parent_folder\n",
            "Outputs:\n",
            "  - remote_folder\n",
            "  - remote_stash\n",
            "  - retrieved\n",
            "  - output_parameters\n",
            "  - bands\n"
          ]
        }
      ],
      "source": [
        "node = kcw_calcjob()\n",
        "print(\"Inputs:\")\n",
        "for input in node.inputs:\n",
        "    if \".\" not in input.name:\n",
        "        print(f\"  - {input.name}\")\n",
        "print(\"Outputs:\")\n",
        "for output in node.outputs:\n",
        "    if \".\" not in output.name:\n",
        "        print(f\"  - {output.name}\")"
      ]
    },
    {
      "cell_type": "code",
      "execution_count": 14,
      "metadata": {},
      "outputs": [
        {
          "name": "stdout",
          "output_type": "stream",
          "text": [
            "Inputs:\n",
            "  - metadata\n",
            "  - max_iterations\n",
            "  - clean_workdir\n",
            "  - handler_overrides\n",
            "  - pw\n",
            "  - kpoints\n",
            "  - kpoints_distance\n",
            "  - kpoints_force_parity\n",
            "Outputs:\n",
            "  - remote_folder\n",
            "  - remote_stash\n",
            "  - retrieved\n",
            "  - output_parameters\n",
            "  - output_structure\n",
            "  - output_trajectory\n",
            "  - output_band\n",
            "  - output_kpoints\n",
            "  - output_atomic_occupations\n"
          ]
        }
      ],
      "source": [
        "node = pw_baseWchain()\n",
        "print(\"Inputs:\")\n",
        "for input in node.inputs:\n",
        "    if \".\" not in input.name:\n",
        "        print(f\"  - {input.name}\")\n",
        "print(\"Outputs:\")\n",
        "for output in node.outputs:\n",
        "    if \".\" not in output.name:\n",
        "        print(f\"  - {output.name}\")"
      ]
    },
    {
      "cell_type": "code",
      "execution_count": 83,
      "metadata": {},
      "outputs": [],
      "source": [
        "from ase_koopmans.io import read\n",
        "\n",
        "ozone = read(\"/home/jovyan/work/koopmans_calcs/tutorial_1/ozon.xsf\")\n",
        "ozone.cell = [[14.1738, 0.0, 0.0],\n",
        "                  [0.0, 12.0, 0.0],\n",
        "                  [0.0, 0.0, 12.66]]\n",
        "structure = orm.StructureData(ase=ozone)\n",
        "\n",
        "pw_code = orm.load_code(\"pw-7.2@localhost\")\n",
        "kcw_code = orm.load_code(\"kcw-7.2@localhost\")\n",
        "pseudo_family = orm.load_group(\"sg15_v1.2/pbe/SR\")\n",
        "pseudos = pseudo_family.get_pseudos(structure=structure) \n",
        "\n",
        "\n",
        "scf_params = {'CONTROL': {'calculation': 'scf',\n",
        "  'forc_conv_thr': 0.0001,\n",
        "  'tprnfor': True,\n",
        "  'tstress': True,\n",
        "  'verbosity': 'high',\n",
        "  'etot_conv_thr': 3.0000000000000004e-05},\n",
        " 'SYSTEM': {'nosym': False,\n",
        "  'occupations': 'fixed',\n",
        "  'nbnd': 10,\n",
        "  'tot_magnetization': 0,\n",
        "  'nspin': 2,\n",
        "  'starting_magnetization(1)': 0.0,\n",
        "  'assume_isolated': 'mt',\n",
        "  'ecutwfc': 50.0,\n",
        "  'ecutrho': 200.0},\n",
        " 'ELECTRONS': {'electron_maxstep': 80, 'mixing_beta': 0.4, 'conv_thr': 6e-10}}\n",
        "\n",
        "wann2kcw_params = {\n",
        "        \"CONTROL\":{\n",
        "                'kcw_iverbosity':1,\n",
        "                'kcw_at_ks'      :True,\n",
        "                'calculation'    :'wann2kcw',\n",
        "                'lrpa'           :False,\n",
        "                'mp1'            :1,\n",
        "                'mp2'            :1,\n",
        "                'mp3'            :1,\n",
        "                'homo_only'      :False,\n",
        "                'read_unitary_matrix' : False,\n",
        "                'l_vcut'         :False,\n",
        "                'assume_isolated':'m-t',\n",
        "                'spin_component' :1,\n",
        "                },\n",
        "        \"WANNIER\":{\n",
        "                \"check_ks\"       : True,\n",
        "                \"num_wann_occ\"   : 9,\n",
        "                \"num_wann_emp\"   : 1,\n",
        "                \"have_empty\"     : True,\n",
        "                \"has_disentangle\": False,\n",
        "                    },\n",
        "    }\n",
        "\n",
        "screening_dict = {\n",
        "    'tr2'         : 1e-18,\n",
        "    'nmix'        : 4,\n",
        "    'niter'       : 33,\n",
        "    'check_spread': True,\n",
        "}\n",
        "\n",
        "kc_screen_params = {\n",
        "        \"CONTROL\":{\n",
        "                'kcw_iverbosity':1,\n",
        "                'kcw_at_ks'      :True,\n",
        "                'calculation'    :'screen',\n",
        "                'lrpa'           :False,\n",
        "                'mp1'            :1,\n",
        "                'mp2'            :1,\n",
        "                'mp3'            :1,\n",
        "                'homo_only'      :False,\n",
        "                'read_unitary_matrix' : False,\n",
        "                'l_vcut'         :False,\n",
        "                'assume_isolated':'m-t',\n",
        "                'spin_component' :1,\n",
        "                },\n",
        "        \"SCREEN\":screening_dict,\n",
        "        \"WANNIER\":{\n",
        "                \"check_ks\"       : True,\n",
        "                \"num_wann_occ\"   : 9,\n",
        "                \"num_wann_emp\"   : 1,\n",
        "                \"have_empty\"     : True,\n",
        "                \"has_disentangle\": False,\n",
        "                    },\n",
        "    }\n",
        "\n",
        "ham_dict = {\n",
        "   'do_bands'       : False,\n",
        "   'use_ws_distance': True,\n",
        "   'write_hr'       : True,\n",
        "   'l_alpha_corr'   : False,\n",
        "}\n",
        "\n",
        "kc_ham_params = {\n",
        "        \"CONTROL\":{\n",
        "                'kcw_iverbosity':1,\n",
        "                'kcw_at_ks'      :True,\n",
        "                'calculation'    :'ham',\n",
        "                'lrpa'           :False,\n",
        "                'mp1'            :1,\n",
        "                'mp2'            :1,\n",
        "                'mp3'            :1,\n",
        "                'homo_only'      :False,\n",
        "                'read_unitary_matrix' : False,\n",
        "                'l_vcut'         :False,\n",
        "                'assume_isolated':'m-t',\n",
        "                'spin_component' :1,\n",
        "                },\n",
        "        \"HAM\":ham_dict,\n",
        "        \"WANNIER\":{\n",
        "                \"check_ks\"       : True,\n",
        "                \"num_wann_occ\"   : 9,\n",
        "                \"num_wann_emp\"   : 1,\n",
        "                \"have_empty\"     : True,\n",
        "                \"has_disentangle\": False,\n",
        "                    },\n",
        "    }\n",
        "\n",
        "\n",
        "metadata = {\n",
        "    'options': {\n",
        "        'max_wallclock_seconds': 3600,\n",
        "        'resources': {\n",
        "            \"num_machines\": 1,\n",
        "            \"num_mpiprocs_per_machine\": 10,\n",
        "            \"num_cores_per_mpiproc\": 1,\n",
        "        },\n",
        "        'custom_scheduler_commands': u\"export OMP_NUM_THREADS=\"+str(1),\n",
        "    }\n",
        "}"
      ]
    },
    {
      "cell_type": "code",
      "execution_count": 84,
      "metadata": {},
      "outputs": [],
      "source": [
        "from aiida_worktree import WorkTree\n",
        "\n",
        "wt = WorkTree(\"scf_kcw_conversion\")\n",
        "scf = wt.nodes.new(pw_baseWchain, name=\"scf\")\n",
        "scf.set_from_protocol(\n",
        "    code = pw_code,\n",
        "    structure = structure,\n",
        "    overrides = {\"pw\":{\"parameters\":scf_params}}\n",
        ")\n",
        "scf.inputs[\"pw\"].value[\"metadata\"]=metadata"
      ]
    },
    {
      "cell_type": "code",
      "execution_count": 85,
      "metadata": {},
      "outputs": [],
      "source": [
        "scf.inputs[\"pw\"].value[\"metadata\"]=metadata\n",
        "scf.inputs[\"pw\"].value[\"pseudos\"]=pseudos"
      ]
    },
    {
      "cell_type": "code",
      "execution_count": 86,
      "metadata": {},
      "outputs": [],
      "source": [
        "kc_conv = wt.nodes.new(kcw_calcjob, name=\"kc_conversion\")\n",
        "kc_conv.set(\n",
        "    {\n",
        "        \"code\": kcw_code,\n",
        "        \"parameters\": orm.Dict(wann2kcw_params),\n",
        "        \"metadata\": metadata,\n",
        "    }\n",
        ")"
      ]
    },
    {
      "cell_type": "code",
      "execution_count": 87,
      "metadata": {},
      "outputs": [],
      "source": [
        "kc_screen = wt.nodes.new(kcw_calcjob, name=\"kc_screen\")\n",
        "kc_screen.set(\n",
        "    {\n",
        "        \"code\": kcw_code,\n",
        "        \"parameters\": orm.Dict(kc_screen_params),\n",
        "        \"metadata\": metadata,\n",
        "    }\n",
        ")"
      ]
    },
    {
      "cell_type": "code",
      "execution_count": 88,
      "metadata": {},
      "outputs": [],
      "source": [
        "kc_ham = wt.nodes.new(kcw_calcjob, name=\"kc_ham\")\n",
        "kc_ham.set(\n",
        "    {\n",
        "        \"code\": kcw_code,\n",
        "        \"parameters\": orm.Dict(kc_ham_params),\n",
        "        \"metadata\": metadata,\n",
        "    }\n",
        ")"
      ]
    },
    {
      "cell_type": "code",
      "execution_count": 89,
      "metadata": {},
      "outputs": [],
      "source": [
        "wt.links.new(scf.outputs[\"remote_folder\"], kc_conv.inputs[\"parent_folder\"])\n",
        "wt.links.new(kc_conv.outputs[\"remote_folder\"], kc_screen.inputs[\"parent_folder\"])\n",
        "wt.links.new(kc_screen.outputs[\"remote_folder\"], kc_ham.inputs[\"parent_folder\"])"
      ]
    },
    {
      "cell_type": "code",
      "execution_count": 90,
      "metadata": {},
      "outputs": [
        {
          "name": "stdout",
          "output_type": "stream",
          "text": [
            "WorkTree node created, PK: 1035\n"
          ]
        }
      ],
      "source": [
        "wt.submit(wait=True)"
      ]
    },
    {
      "cell_type": "code",
      "execution_count": 91,
      "metadata": {},
      "outputs": [
        {
          "data": {
            "text/plain": [
              "'/home/jovyan/codes/aiida-koopmans'"
            ]
          },
          "execution_count": 91,
          "metadata": {},
          "output_type": "execute_result"
        }
      ],
      "source": [
        "pwd"
      ]
    },
    {
      "cell_type": "code",
      "execution_count": null,
      "metadata": {},
      "outputs": [],
      "source": []
    }
  ],
  "metadata": {
    "kernelspec": {
      "display_name": "base",
      "language": "python",
      "name": "python3"
    },
    "language_info": {
      "codemirror_mode": {
        "name": "ipython",
        "version": 3
      },
      "file_extension": ".py",
      "mimetype": "text/x-python",
      "name": "python",
      "nbconvert_exporter": "python",
      "pygments_lexer": "ipython3",
      "version": "3.9.13"
    }
  },
  "nbformat": 4,
  "nbformat_minor": 2
}
