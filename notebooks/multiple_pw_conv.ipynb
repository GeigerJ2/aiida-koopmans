{
 "cells": [
  {
   "cell_type": "code",
   "execution_count": 1,
   "metadata": {},
   "outputs": [
    {
     "data": {
      "text/plain": [
       "Profile<uuid='5ca88b1d2d41436bb1747cc5c08179db' name='default'>"
      ]
     },
     "execution_count": 1,
     "metadata": {},
     "output_type": "execute_result"
    }
   ],
   "source": [
    "from aiida import load_profile, orm\n",
    "from aiida_worktree import node, WorkTree, build_node\n",
    "\n",
    "load_profile()"
   ]
  },
  {
   "cell_type": "markdown",
   "metadata": {},
   "source": [
    "# Experiment: convergence of PW total energy with respect to cutoff\n",
    "\n",
    "The idea is to create \n",
    "- simple worktree that is generated dynamically with respect to a given set of inputs on which to run (for example, the list of ecuts)\n",
    "- a final node which checks if it is converged or not\n",
    "- then, a workchain to restart with hints in case no convergence (simple, like input list + 10 Ry)"
   ]
  },
  {
   "cell_type": "code",
   "execution_count": 2,
   "metadata": {},
   "outputs": [],
   "source": [
    "import json"
   ]
  },
  {
   "cell_type": "code",
   "execution_count": 3,
   "metadata": {},
   "outputs": [],
   "source": [
    "with open(\"h2o.json\",\"r\") as file:\n",
    "    d = json.load(file)"
   ]
  },
  {
   "cell_type": "code",
   "execution_count": 4,
   "metadata": {},
   "outputs": [
    {
     "data": {
      "text/plain": [
       "{'workflow': {'functional': 'ki',\n",
       "  'method': 'dfpt',\n",
       "  'init_orbitals': 'kohn-sham',\n",
       "  'from_scratch': True,\n",
       "  'alpha_numsteps': 1,\n",
       "  'mt_correction': True,\n",
       "  'pseudo_library': 'sg15'},\n",
       " 'atoms': {'cell_parameters': {'vectors': [[9.5142, 0.0, 0.0],\n",
       "    [0.0, 8.0, 0.0],\n",
       "    [0.0, 0.0, 8.5861]],\n",
       "   'units': 'angstrom',\n",
       "   'periodic': False},\n",
       "  'atomic_positions': {'units': 'angstrom',\n",
       "   'positions': [['O', 6.7571, 6.0, 5.9023166667],\n",
       "    ['H', 7.5142, 6.0, 6.4884166667],\n",
       "    ['H', 6.0, 6.0, 6.4884166667]]}},\n",
       " 'calculator_parameters': {'ecutwfc': 45.0, 'ecutrho': 180.0, 'nbnd': 8}}"
      ]
     },
     "execution_count": 4,
     "metadata": {},
     "output_type": "execute_result"
    }
   ],
   "source": [
    "d"
   ]
  },
  {
   "cell_type": "code",
   "execution_count": 5,
   "metadata": {},
   "outputs": [],
   "source": [
    "ndata = {\"path\": \"aiida_quantumespresso.workflows.pw.base.PwBaseWorkChain\"}\n",
    "pw_baseWchain = build_node(ndata)"
   ]
  },
  {
   "cell_type": "code",
   "execution_count": 6,
   "metadata": {},
   "outputs": [
    {
     "name": "stdout",
     "output_type": "stream",
     "text": [
      "Inputs:\n",
      "  - metadata\n",
      "  - max_iterations\n",
      "  - clean_workdir\n",
      "  - handler_overrides\n",
      "  - pw\n",
      "  - kpoints\n",
      "  - kpoints_distance\n",
      "  - kpoints_force_parity\n",
      "Outputs:\n",
      "  - remote_folder\n",
      "  - remote_stash\n",
      "  - retrieved\n",
      "  - output_parameters\n",
      "  - output_structure\n",
      "  - output_trajectory\n",
      "  - output_band\n",
      "  - output_kpoints\n",
      "  - output_atomic_occupations\n"
     ]
    }
   ],
   "source": [
    "pw_node = pw_baseWchain()\n",
    "print(\"Inputs:\")\n",
    "for input in pw_node.inputs:\n",
    "    if \".\" not in input.name:\n",
    "        print(f\"  - {input.name}\")\n",
    "print(\"Outputs:\")\n",
    "for output in pw_node.outputs:\n",
    "    if \".\" not in output.name:\n",
    "        print(f\"  - {output.name}\")"
   ]
  },
  {
   "cell_type": "code",
   "execution_count": 7,
   "metadata": {},
   "outputs": [],
   "source": [
    "for_ase = {\n",
    "    \"numbers\":None,\n",
    "    \"pbc\": [False,False,False],\n",
    "    \"positions\":d[\"atoms\"][\"atomic_positions\"][\"positions\"],\n",
    "    \"cell\":d[\"atoms\"][\"cell_parameters\"][\"vectors\"]\n",
    "}\n",
    "\n",
    "atoms = \"\"\n",
    "positions = []\n",
    "for i in for_ase[\"positions\"]:\n",
    "    atoms += i[0]\n",
    "    positions.append(i[1:])\n"
   ]
  },
  {
   "cell_type": "code",
   "execution_count": 8,
   "metadata": {},
   "outputs": [],
   "source": [
    "from ase_koopmans import Atoms\n",
    "import copy\n",
    "\n",
    "H2O = Atoms(atoms,\n",
    "    positions=positions,\n",
    "    cell=d[\"atoms\"][\"cell_parameters\"][\"vectors\"],\n",
    "    pbc=[0, 0, 0])\n"
   ]
  },
  {
   "cell_type": "code",
   "execution_count": 26,
   "metadata": {},
   "outputs": [],
   "source": [
    "\n",
    "\n",
    "structure = orm.StructureData(ase=H2O)\n",
    "\n",
    "pw_code = orm.load_code(\"pw-7.2@localhost\")\n",
    "kcw_code = orm.load_code(\"kcw-7.2@localhost\")\n",
    "pseudo_family = orm.load_group(\"sg15_v1.2/pbe/SR\")\n",
    "pseudos_ = pseudo_family.get_pseudos(structure=structure) \n",
    "valence = 1+1+6\n",
    "\n",
    "scf_params = {\n",
    " 'SYSTEM': {'nosym': False,\n",
    "  'occupations': 'fixed',\n",
    "  'nbnd': d[\"calculator_parameters\"][\"nbnd\"],\n",
    "  'tot_magnetization': 0,\n",
    "  'nspin': 2,\n",
    "  'starting_magnetization(1)': 0.0,\n",
    "  'ecutwfc': d[\"calculator_parameters\"][\"ecutwfc\"],\n",
    "  'ecutrho': d[\"calculator_parameters\"][\"ecutrho\"]},\n",
    "}\n",
    "\n",
    "if not d[\"atoms\"]['cell_parameters'].get(\"periodic\", True): scf_params[\"SYSTEM\"]['assume_isolated'] = \"mt\"\n",
    "\n",
    "metadata = {\n",
    "    'options': {\n",
    "        'max_wallclock_seconds': 3600,\n",
    "        'resources': {\n",
    "            \"num_machines\": 1,\n",
    "            \"num_mpiprocs_per_machine\": 2,\n",
    "            \"num_cores_per_mpiproc\": 1,\n",
    "        },\n",
    "        'custom_scheduler_commands': u\"export OMP_NUM_THREADS=\"+str(1),\n",
    "    }\n",
    "}"
   ]
  },
  {
   "cell_type": "code",
   "execution_count": 134,
   "metadata": {},
   "outputs": [],
   "source": [
    "ecut_list = range(10,100,10) # Ry"
   ]
  },
  {
   "cell_type": "code",
   "execution_count": 135,
   "metadata": {},
   "outputs": [
    {
     "data": {
      "text/plain": [
       "'try_ctx = wt.nodes.new(store_list_ecut_and_energies, name=\"try_ctx\")\\nwt.links.new(all_scf_node.outputs[\"result\"], try_ctx.inputs[\"out_d\"]) # link SCF and KC conversion'"
      ]
     },
     "execution_count": 135,
     "metadata": {},
     "output_type": "execute_result"
    }
   ],
   "source": [
    "wt = WorkTree(\"scf_ecut_H2O\")\n",
    "# SCF nodes:\n",
    "# Output result from context\n",
    "@node.group(outputs=[[\"ctx.result\", \"result\"]]) # what is save in ctx.result, will be the output node \"result\"\n",
    "def all_scf(pw_code,structure,scf_params,ecut_list,pseudos_,metadata):\n",
    "    wt = WorkTree(\"run_loop_scf\")\n",
    "    for ecut in ecut_list:\n",
    "        updated_params = copy.deepcopy(scf_params)\n",
    "        updated_params[\"SYSTEM\"][\"ecutwfc\"] = ecut\n",
    "        scf = wt.nodes.new(pw_baseWchain, name=f\"scf_{ecut}\")\n",
    "        scf.set_from_protocol(\n",
    "            code = pw_code,\n",
    "            structure = structure,\n",
    "            overrides = {\"pw\":{\"parameters\":updated_params}}\n",
    "        )\n",
    "        scf.inputs[\"pw\"].value[\"metadata\"]=metadata\n",
    "        scf.inputs[\"pw\"].value[\"metadata\"]=metadata\n",
    "        scf.inputs[\"pw\"].value[\"pseudos\"]=pseudos_\n",
    "        scf.to_ctx = [[\"output_parameters\", f\"result.tot_E.scf_{ecut}\"]]\n",
    "\n",
    "    return wt\n",
    "\n",
    "\n",
    "all_scf_node = wt.nodes.new(all_scf, name=\"all_scf_node\")\n",
    "all_scf_node.set(\n",
    "    {\n",
    "        \"pw_code\":pw_code,\n",
    "        \"structure\":structure,\n",
    "        \"scf_params\":scf_params,\n",
    "        \"ecut_list\":ecut_list,\n",
    "        \"pseudos_\":pseudos_,\n",
    "        \"metadata\":metadata,\n",
    "        }\n",
    "    )\n",
    "\n",
    "\"\"\"\n",
    "# define sum node\n",
    "@node.calcfunction()\n",
    "def store_list_ecut_and_energies(**out_d):\n",
    "    total = []\n",
    "\n",
    "    for name,data in out_d[tot_E].items():\n",
    "        d = data.get_dict()[\"energy\"]\n",
    "        total.append(d)\n",
    "    return orm.List(total)\n",
    "    \n",
    "try_ctx = wt.nodes.new(store_list_ecut_and_energies, name=\"try_ctx\")\n",
    "wt.links.new(all_scf_node.outputs[\"result\"], try_ctx.inputs[\"out_d\"]) # link SCF and KC conversion\"\"\""
   ]
  },
  {
   "cell_type": "code",
   "execution_count": 136,
   "metadata": {},
   "outputs": [
    {
     "name": "stdout",
     "output_type": "stream",
     "text": [
      "WorkTree node created, PK: 2088\n"
     ]
    }
   ],
   "source": [
    "wt.submit(wait=True, timeout=300)"
   ]
  },
  {
   "cell_type": "code",
   "execution_count": 137,
   "metadata": {},
   "outputs": [
    {
     "name": "stdout",
     "output_type": "stream",
     "text": [
      "\u001b[22m2024-02-08 17:46:34 [685 | REPORT]: [2088|WorkTree|continue_worktree]: Continue worktree.\n",
      "2024-02-08 17:46:34 [686 | REPORT]: [2088|WorkTree|continue_worktree]: nodes ready to run: all_scf_node\n",
      "2024-02-08 17:46:34 [687 | REPORT]: [2088|WorkTree|run_nodes]: Run node: all_scf_node, type: worktree\n",
      "2024-02-08 17:46:57 [688 | REPORT]:   [2134|WorkTree|continue_worktree]: Continue worktree.\n",
      "2024-02-08 17:46:59 [689 | REPORT]:   [2134|WorkTree|continue_worktree]: nodes ready to run: scf_10,scf_20,scf_30,scf_40,scf_50,scf_60,scf_70,scf_80,scf_90\n",
      "2024-02-08 17:46:59 [690 | REPORT]:   [2134|WorkTree|run_nodes]: Run node: scf_10, type: workchain\n",
      "2024-02-08 17:47:00 [691 | REPORT]:   [2134|WorkTree|run_nodes]: Run node: scf_20, type: workchain\n",
      "2024-02-08 17:47:00 [692 | REPORT]:   [2134|WorkTree|run_nodes]: Run node: scf_30, type: workchain\n",
      "2024-02-08 17:47:01 [693 | REPORT]:   [2134|WorkTree|run_nodes]: Run node: scf_40, type: workchain\n",
      "2024-02-08 17:47:02 [694 | REPORT]:   [2134|WorkTree|run_nodes]: Run node: scf_50, type: workchain\n",
      "2024-02-08 17:47:02 [695 | REPORT]:   [2134|WorkTree|run_nodes]: Run node: scf_60, type: workchain\n",
      "2024-02-08 17:47:03 [696 | REPORT]:   [2134|WorkTree|run_nodes]: Run node: scf_70, type: workchain\n",
      "2024-02-08 17:47:04 [697 | REPORT]:   [2134|WorkTree|run_nodes]: Run node: scf_80, type: workchain\n",
      "2024-02-08 17:47:04 [698 | REPORT]:   [2134|WorkTree|run_nodes]: Run node: scf_90, type: workchain\n",
      "2024-02-08 17:47:14 [699 | REPORT]:     [2143|PwBaseWorkChain|run_process]: launching PwCalculation<2164> iteration #1\n",
      "2024-02-08 17:47:15 [700 | REPORT]:     [2142|PwBaseWorkChain|run_process]: launching PwCalculation<2167> iteration #1\n",
      "2024-02-08 17:47:16 [701 | REPORT]:     [2141|PwBaseWorkChain|run_process]: launching PwCalculation<2170> iteration #1\n",
      "2024-02-08 17:47:17 [702 | REPORT]:     [2140|PwBaseWorkChain|run_process]: launching PwCalculation<2173> iteration #1\n",
      "2024-02-08 17:47:18 [703 | REPORT]:     [2139|PwBaseWorkChain|run_process]: launching PwCalculation<2176> iteration #1\n",
      "2024-02-08 17:47:19 [704 | REPORT]:     [2138|PwBaseWorkChain|run_process]: launching PwCalculation<2179> iteration #1\n",
      "2024-02-08 17:47:20 [705 | REPORT]:     [2137|PwBaseWorkChain|run_process]: launching PwCalculation<2182> iteration #1\n",
      "2024-02-08 17:47:20 [706 | REPORT]:     [2136|PwBaseWorkChain|run_process]: launching PwCalculation<2185> iteration #1\n",
      "2024-02-08 17:47:21 [707 | REPORT]:     [2135|PwBaseWorkChain|run_process]: launching PwCalculation<2188> iteration #1\n",
      "2024-02-08 17:49:27 [708 | REPORT]:     [2135|PwBaseWorkChain|results]: work chain completed after 1 iterations\n",
      "2024-02-08 17:49:27 [709 | REPORT]:     [2135|PwBaseWorkChain|on_terminated]: remote folders will not be cleaned\n",
      "2024-02-08 17:49:28 [710 | REPORT]:   [2134|WorkTree|set_node_result]: Node: scf_10 finished.\n",
      "2024-02-08 17:49:32 [711 | REPORT]:   [2134|WorkTree|continue_worktree]: Continue worktree.\n",
      "2024-02-08 17:49:34 [712 | REPORT]:   [2134|WorkTree|continue_worktree]: nodes ready to run: \n",
      "2024-02-08 17:49:40 [713 | REPORT]:     [2136|PwBaseWorkChain|results]: work chain completed after 1 iterations\n",
      "2024-02-08 17:49:40 [714 | REPORT]:     [2136|PwBaseWorkChain|on_terminated]: remote folders will not be cleaned\n",
      "2024-02-08 17:49:42 [715 | REPORT]:   [2134|WorkTree|set_node_result]: Node: scf_20 finished.\n",
      "2024-02-08 17:49:46 [716 | REPORT]:   [2134|WorkTree|continue_worktree]: Continue worktree.\n",
      "2024-02-08 17:49:49 [717 | REPORT]:   [2134|WorkTree|continue_worktree]: nodes ready to run: \n",
      "2024-02-08 17:49:53 [718 | REPORT]:     [2137|PwBaseWorkChain|results]: work chain completed after 1 iterations\n",
      "2024-02-08 17:49:54 [719 | REPORT]:     [2137|PwBaseWorkChain|on_terminated]: remote folders will not be cleaned\n",
      "2024-02-08 17:49:54 [720 | REPORT]:   [2134|WorkTree|set_node_result]: Node: scf_30 finished.\n",
      "2024-02-08 17:49:58 [721 | REPORT]:   [2134|WorkTree|continue_worktree]: Continue worktree.\n",
      "2024-02-08 17:50:00 [722 | REPORT]:   [2134|WorkTree|continue_worktree]: nodes ready to run: \n",
      "2024-02-08 17:50:08 [723 | REPORT]:     [2139|PwBaseWorkChain|results]: work chain completed after 1 iterations\n",
      "2024-02-08 17:50:08 [724 | REPORT]:     [2139|PwBaseWorkChain|on_terminated]: remote folders will not be cleaned\n",
      "2024-02-08 17:50:08 [725 | REPORT]:     [2138|PwBaseWorkChain|results]: work chain completed after 1 iterations\n",
      "2024-02-08 17:50:08 [726 | REPORT]:     [2138|PwBaseWorkChain|on_terminated]: remote folders will not be cleaned\n",
      "2024-02-08 17:50:09 [727 | REPORT]:   [2134|WorkTree|set_node_result]: Node: scf_50 finished.\n",
      "2024-02-08 17:50:09 [728 | REPORT]:   [2134|WorkTree|set_node_result]: Node: scf_40 finished.\n",
      "2024-02-08 17:50:13 [729 | REPORT]:   [2134|WorkTree|continue_worktree]: Continue worktree.\n",
      "2024-02-08 17:50:14 [730 | REPORT]:   [2134|WorkTree|continue_worktree]: nodes ready to run: \n",
      "2024-02-08 17:50:20 [731 | REPORT]:     [2141|PwBaseWorkChain|results]: work chain completed after 1 iterations\n",
      "2024-02-08 17:50:20 [732 | REPORT]:     [2141|PwBaseWorkChain|on_terminated]: remote folders will not be cleaned\n",
      "2024-02-08 17:50:24 [733 | REPORT]:   [2134|WorkTree|set_node_result]: Node: scf_70 finished.\n",
      "2024-02-08 17:50:28 [734 | REPORT]:   [2134|WorkTree|continue_worktree]: Continue worktree.\n",
      "2024-02-08 17:50:30 [735 | REPORT]:   [2134|WorkTree|continue_worktree]: nodes ready to run: \n",
      "2024-02-08 17:50:34 [736 | REPORT]:     [2143|PwBaseWorkChain|results]: work chain completed after 1 iterations\n",
      "2024-02-08 17:50:34 [737 | REPORT]:     [2143|PwBaseWorkChain|on_terminated]: remote folders will not be cleaned\n",
      "2024-02-08 17:50:34 [738 | REPORT]:     [2142|PwBaseWorkChain|results]: work chain completed after 1 iterations\n",
      "2024-02-08 17:50:34 [739 | REPORT]:     [2142|PwBaseWorkChain|on_terminated]: remote folders will not be cleaned\n",
      "2024-02-08 17:50:34 [740 | REPORT]:     [2140|PwBaseWorkChain|results]: work chain completed after 1 iterations\n",
      "2024-02-08 17:50:35 [741 | REPORT]:     [2140|PwBaseWorkChain|on_terminated]: remote folders will not be cleaned\n",
      "2024-02-08 17:50:35 [742 | REPORT]:   [2134|WorkTree|set_node_result]: Node: scf_90 finished.\n",
      "2024-02-08 17:50:35 [743 | REPORT]:   [2134|WorkTree|set_node_result]: Node: scf_80 finished.\n",
      "2024-02-08 17:50:35 [744 | REPORT]:   [2134|WorkTree|set_node_result]: Node: scf_60 finished.\n",
      "2024-02-08 17:50:39 [745 | REPORT]:   [2134|WorkTree|continue_worktree]: Continue worktree.\n",
      "2024-02-08 17:50:41 [746 | REPORT]:   [2134|WorkTree|continue_worktree]: nodes ready to run: \n",
      "2024-02-08 17:50:42 [747 | REPORT]:   [2134|WorkTree|finalize]: Finalize\n",
      "2024-02-08 17:50:43 [748 | REPORT]: [2088|WorkTree|set_node_result]: Node: all_scf_node finished.\n",
      "2024-02-08 17:50:43 [749 | REPORT]: [2088|WorkTree|continue_worktree]: Continue worktree.\n",
      "2024-02-08 17:50:43 [750 | REPORT]: [2088|WorkTree|continue_worktree]: nodes ready to run: \n",
      "2024-02-08 17:50:43 [751 | REPORT]: [2088|WorkTree|finalize]: Finalize\u001b[0m\n"
     ]
    }
   ],
   "source": [
    "!verdi process report 2088"
   ]
  },
  {
   "cell_type": "code",
   "execution_count": 138,
   "metadata": {},
   "outputs": [
    {
     "data": {
      "text/plain": [
       "<CalcJobNode: uuid: 875730a8-b38a-4932-b31b-bf60c171bda1 (pk: 2185) (aiida.calculations:quantumespresso.pw)>"
      ]
     },
     "execution_count": 138,
     "metadata": {},
     "output_type": "execute_result"
    }
   ],
   "source": [
    "wt.process.called[0].outputs.group_outputs.result.tot_E.scf_20.creator"
   ]
  },
  {
   "cell_type": "code",
   "execution_count": 139,
   "metadata": {},
   "outputs": [
    {
     "name": "stdout",
     "output_type": "stream",
     "text": [
      "10 -414.74946874889\n",
      "20 -442.10181451284\n",
      "30 -456.49508517329\n",
      "50 -465.8179349436\n",
      "40 -463.26261569433\n",
      "70 -466.89930892725\n",
      "90 -466.94445329268\n",
      "80 -466.94101839975\n",
      "60 -466.67135481427\n"
     ]
    }
   ],
   "source": [
    "ecut_res,tot_E_res = [],[]\n",
    "results = wt.process.called[0].outputs.group_outputs.result.tot_E\n",
    "for i,j in results.items():\n",
    "    ecut_ = j.creator.inputs.parameters.get_dict()[\"SYSTEM\"][\"ecutwfc\"]\n",
    "    tot_energy_ = j.get_dict()[\"energy\"]\n",
    "    print(ecut_,tot_energy_)\n",
    "    ecut_res.append(ecut_)\n",
    "    tot_E_res.append(tot_energy_)"
   ]
  },
  {
   "cell_type": "code",
   "execution_count": 144,
   "metadata": {},
   "outputs": [
    {
     "data": {
      "text/plain": [
       "[<matplotlib.lines.Line2D at 0x7f8d7e548190>]"
      ]
     },
     "execution_count": 144,
     "metadata": {},
     "output_type": "execute_result"
    },
    {
     "data": {
      "image/png": "[encoded data removed]",
      "text/plain": [
       "<Figure size 640x480 with 1 Axes>"
      ]
     },
     "metadata": {},
     "output_type": "display_data"
    }
   ],
   "source": [
    "import matplotlib.pyplot as plt\n",
    "\n",
    "plt.grid()\n",
    "plt.plot(ecut_res,tot_E_res,'o')"
   ]
  },
  {
   "cell_type": "code",
   "execution_count": null,
   "metadata": {},
   "outputs": [],
   "source": []
  }
 ],
 "metadata": {
  "kernelspec": {
   "display_name": "base",
   "language": "python",
   "name": "python3"
  },
  "language_info": {
   "codemirror_mode": {
    "name": "ipython",
    "version": 3
   },
   "file_extension": ".py",
   "mimetype": "text/x-python",
   "name": "python",
   "nbconvert_exporter": "python",
   "pygments_lexer": "ipython3",
   "version": "3.9.13"
  }
 },
 "nbformat": 4,
 "nbformat_minor": 2
}
