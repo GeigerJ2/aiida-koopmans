{
 "cells": [
  {
   "cell_type": "markdown",
   "metadata": {},
   "source": [
    "# Understanding the calculators in ASE\n",
    "\n",
    "to wrap them in aiida-shell"
   ]
  },
  {
   "cell_type": "code",
   "execution_count": 1,
   "metadata": {},
   "outputs": [],
   "source": [
    "import os\n",
    "from koopmans.io import read\n",
    "from koopmans.workflows import (DFTCPWorkflow, DFTPhWorkflow,\n",
    "                                        KoopmansDFPTWorkflow,\n",
    "                                        KoopmansDSCFWorkflow)\n",
    "\n",
    "from koopmans.workflows import DFTPWWorkflow, WannierizeWorkflow\n",
    "\n",
    "wf = read('ozone.json')"
   ]
  },
  {
   "cell_type": "code",
   "execution_count": 2,
   "metadata": {},
   "outputs": [],
   "source": [
    "os.environ['PARA_PREFIX'] = 'mpirun -np 2'"
   ]
  },
  {
   "cell_type": "code",
   "execution_count": 3,
   "metadata": {},
   "outputs": [],
   "source": [
    "workflow = KoopmansDFPTWorkflow.fromparent(wf)"
   ]
  },
  {
   "cell_type": "code",
   "execution_count": 4,
   "metadata": {},
   "outputs": [
    {
     "data": {
      "text/plain": [
       "KoopmansDFPTWorkflow(atoms=O3,\n",
       "   parameters={'task': 'singlepoint', 'functional': 'ki', 'base_functional': 'pbe', ...},\n",
       "   kpoints=Kpoints(gamma_only=False, grid=[1, 1, 1], offset=[0, 0, 0], path=G),\n",
       "   pseudopotentials={'O': 'O_ONCV_PBE-1.2.upf'})"
      ]
     },
     "execution_count": 4,
     "metadata": {},
     "output_type": "execute_result"
    }
   ],
   "source": [
    "workflow"
   ]
  },
  {
   "cell_type": "code",
   "execution_count": 5,
   "metadata": {},
   "outputs": [],
   "source": [
    "pw_workflow = DFTPWWorkflow.fromparent(workflow)"
   ]
  },
  {
   "cell_type": "code",
   "execution_count": 6,
   "metadata": {},
   "outputs": [],
   "source": [
    "pw_params = pw_workflow.calculator_parameters['pw']\n",
    "pw_params.nspin = 2\n",
    "pw_params.tot_magnetization = 0"
   ]
  },
  {
   "cell_type": "code",
   "execution_count": 7,
   "metadata": {},
   "outputs": [],
   "source": [
    "pw_calculator = pw_workflow.new_calculator('pw')"
   ]
  },
  {
   "cell_type": "code",
   "execution_count": 8,
   "metadata": {},
   "outputs": [
    {
     "data": {
      "text/plain": [
       "mpirun -np 2 pw.x -in PREFIX.pwi > PREFIX.pwo 2>&1"
      ]
     },
     "execution_count": 8,
     "metadata": {},
     "output_type": "execute_result"
    }
   ],
   "source": [
    "pw_calculator.command"
   ]
  },
  {
   "cell_type": "code",
   "execution_count": 9,
   "metadata": {},
   "outputs": [
    {
     "data": {
      "text/plain": [
       "{'_parameters': {'calculation': 'scf', 'outdir': PosixPath('/home/jovyan/work/blitz/TMP'), 'prefix': 'kc', 'conv_thr': 3.6000000000000005e-08, 'verbosity': 'high', 'tot_charge': 0, 'tot_magnetization': 0, 'nbnd': 10, 'ecutwfc': 65.0, 'ecutrho': 260.0, 'kpts': [1, 1, 1], 'nspin': 2, 'pseudopotentials': {'O': 'O_ONCV_PBE-1.2.upf'}, 'pseudo_dir': PosixPath('/home/jovyan/project/blitz_shell_koopmans/codes/koopmans/src/koopmans/pseudopotentials/sg15_v1.2/pbe'), 'gamma_only': False, 'koffset': [0, 0, 0]},\n",
       " 'atoms': Atoms(symbols='O3', pbc=False, cell=[14.1738, 12.0, 12.66], tags=..., calculator=PWCalculator(...)),\n",
       " 'results': {},\n",
       " '_directory': PosixPath('/home/jovyan/work/blitz'),\n",
       " 'prefix': 'espresso',\n",
       " 'name': 'pwcalculator',\n",
       " 'command': mpirun -np 2 pw.x -in PREFIX.pwi > PREFIX.pwo 2>&1,\n",
       " 'calc': None,\n",
       " 'skip_qc': False,\n",
       " '__koopmans_name__': 'PWCalculator',\n",
       " '__koopmans_module__': 'koopmans.calculators._pw'}"
      ]
     },
     "execution_count": 9,
     "metadata": {},
     "output_type": "execute_result"
    }
   ],
   "source": [
    "pw_calculator.todict()"
   ]
  },
  {
   "cell_type": "code",
   "execution_count": 10,
   "metadata": {},
   "outputs": [
    {
     "ename": "CalculationFailed",
     "evalue": "Calculator \"pwcalculator\" failed with command \"mpirun -np 2 /home/jovyan/.aiida_venvs/blitz_shell_koopmans/bin/pw.x -in espresso.pwi > espresso.pwo 2>&1\" failed in /home/jovyan/work/blitz with error code 127",
     "output_type": "error",
     "traceback": [
      "\u001b[0;31m---------------------------------------------------------------------------\u001b[0m",
      "\u001b[0;31mCalculationFailed\u001b[0m                         Traceback (most recent call last)",
      "Cell \u001b[0;32mIn[10], line 1\u001b[0m\n\u001b[0;32m----> 1\u001b[0m \u001b[43mpw_calculator\u001b[49m\u001b[38;5;241;43m.\u001b[39;49m\u001b[43mcalculate\u001b[49m\u001b[43m(\u001b[49m\u001b[43m)\u001b[49m \u001b[38;5;66;03m# the error is expected, the mpirun is not installed in the current blitz env.\u001b[39;00m\n",
      "File \u001b[0;32m~/project/blitz_shell_koopmans/codes/koopmans/src/koopmans/calculators/_pw.py:47\u001b[0m, in \u001b[0;36mPWCalculator.calculate\u001b[0;34m(self)\u001b[0m\n\u001b[1;32m     45\u001b[0m \u001b[38;5;28;01melse\u001b[39;00m:\n\u001b[1;32m     46\u001b[0m     \u001b[38;5;28mself\u001b[39m\u001b[38;5;241m.\u001b[39mparameters\u001b[38;5;241m.\u001b[39mibrav \u001b[38;5;241m=\u001b[39m \u001b[38;5;241m0\u001b[39m\n\u001b[0;32m---> 47\u001b[0m \u001b[38;5;28;43msuper\u001b[39;49m\u001b[43m(\u001b[49m\u001b[43m)\u001b[49m\u001b[38;5;241;43m.\u001b[39;49m\u001b[43mcalculate\u001b[49m\u001b[43m(\u001b[49m\u001b[43m)\u001b[49m\n",
      "File \u001b[0;32m~/project/blitz_shell_koopmans/codes/koopmans/src/koopmans/calculators/_utils.py:137\u001b[0m, in \u001b[0;36mCalculatorExt.calculate\u001b[0;34m(self)\u001b[0m\n\u001b[1;32m    134\u001b[0m \u001b[38;5;28mself\u001b[39m\u001b[38;5;241m.\u001b[39mcheck_code_is_installed()\n\u001b[1;32m    136\u001b[0m \u001b[38;5;66;03m# Then call the relevant ASE calculate() function\u001b[39;00m\n\u001b[0;32m--> 137\u001b[0m \u001b[38;5;28;43mself\u001b[39;49m\u001b[38;5;241;43m.\u001b[39;49m\u001b[43m_calculate\u001b[49m\u001b[43m(\u001b[49m\u001b[43m)\u001b[49m\n\u001b[1;32m    139\u001b[0m \u001b[38;5;66;03m# Then check if the calculation completed\u001b[39;00m\n\u001b[1;32m    140\u001b[0m \u001b[38;5;28;01mif\u001b[39;00m \u001b[38;5;129;01mnot\u001b[39;00m \u001b[38;5;28mself\u001b[39m\u001b[38;5;241m.\u001b[39mis_complete():\n",
      "File \u001b[0;32m~/project/blitz_shell_koopmans/codes/koopmans/src/koopmans/calculators/_pw.py:55\u001b[0m, in \u001b[0;36mPWCalculator._calculate\u001b[0;34m(self)\u001b[0m\n\u001b[1;32m     51\u001b[0m     \u001b[38;5;28;01mif\u001b[39;00m \u001b[38;5;129;01mnot\u001b[39;00m \u001b[38;5;28misinstance\u001b[39m(\u001b[38;5;28mself\u001b[39m\u001b[38;5;241m.\u001b[39mparameters\u001b[38;5;241m.\u001b[39mkpts, BandPath):\n\u001b[1;32m     52\u001b[0m         \u001b[38;5;28;01mraise\u001b[39;00m \u001b[38;5;167;01mKeyError\u001b[39;00m(\u001b[38;5;124m'\u001b[39m\u001b[38;5;124mYou are running a calculation that requires a kpoint path; please provide a BandPath \u001b[39m\u001b[38;5;124m'\u001b[39m\n\u001b[1;32m     53\u001b[0m                        \u001b[38;5;124m'\u001b[39m\u001b[38;5;124mas the kpts parameter\u001b[39m\u001b[38;5;124m'\u001b[39m)\n\u001b[0;32m---> 55\u001b[0m \u001b[38;5;28;43msuper\u001b[39;49m\u001b[43m(\u001b[49m\u001b[43m)\u001b[49m\u001b[38;5;241;43m.\u001b[39;49m\u001b[43m_calculate\u001b[49m\u001b[43m(\u001b[49m\u001b[43m)\u001b[49m\n\u001b[1;32m     57\u001b[0m \u001b[38;5;28;01mif\u001b[39;00m \u001b[38;5;28misinstance\u001b[39m(\u001b[38;5;28mself\u001b[39m\u001b[38;5;241m.\u001b[39mparameters\u001b[38;5;241m.\u001b[39mkpts, BandPath):\n\u001b[1;32m     58\u001b[0m     \u001b[38;5;66;03m# Add the bandstructure to the results. This is very un-ASE-y and might eventually be replaced\u001b[39;00m\n\u001b[1;32m     59\u001b[0m     \u001b[38;5;28mself\u001b[39m\u001b[38;5;241m.\u001b[39mgenerate_band_structure()\n",
      "File \u001b[0;32m~/project/blitz_shell_koopmans/codes/koopmans/src/koopmans/calculators/_utils.py:154\u001b[0m, in \u001b[0;36mCalculatorExt._calculate\u001b[0;34m(self)\u001b[0m\n\u001b[1;32m    151\u001b[0m \u001b[38;5;28mself\u001b[39m\u001b[38;5;241m.\u001b[39mcommand \u001b[38;5;241m=\u001b[39m \u001b[38;5;28mstr\u001b[39m(command)\n\u001b[1;32m    153\u001b[0m \u001b[38;5;66;03m# Perform the calculation\u001b[39;00m\n\u001b[0;32m--> 154\u001b[0m \u001b[38;5;28;43msuper\u001b[39;49m\u001b[43m(\u001b[49m\u001b[43m)\u001b[49m\u001b[38;5;241;43m.\u001b[39;49m\u001b[43mcalculate\u001b[49m\u001b[43m(\u001b[49m\u001b[43m)\u001b[49m\n\u001b[1;32m    156\u001b[0m \u001b[38;5;66;03m# Restore self.command\u001b[39;00m\n\u001b[1;32m    157\u001b[0m \u001b[38;5;28mself\u001b[39m\u001b[38;5;241m.\u001b[39mcommand \u001b[38;5;241m=\u001b[39m command\n",
      "File \u001b[0;32m~/.aiida_venvs/blitz_shell_koopmans/lib/python3.9/site-packages/ase/calculators/calculator.py:923\u001b[0m, in \u001b[0;36mFileIOCalculator.calculate\u001b[0;34m(self, atoms, properties, system_changes)\u001b[0m\n\u001b[1;32m    919\u001b[0m     path \u001b[38;5;241m=\u001b[39m os\u001b[38;5;241m.\u001b[39mpath\u001b[38;5;241m.\u001b[39mabspath(\u001b[38;5;28mself\u001b[39m\u001b[38;5;241m.\u001b[39mdirectory)\n\u001b[1;32m    920\u001b[0m     msg \u001b[38;5;241m=\u001b[39m (\u001b[38;5;124m'\u001b[39m\u001b[38;5;124mCalculator \u001b[39m\u001b[38;5;124m\"\u001b[39m\u001b[38;5;132;01m{}\u001b[39;00m\u001b[38;5;124m\"\u001b[39m\u001b[38;5;124m failed with command \u001b[39m\u001b[38;5;124m\"\u001b[39m\u001b[38;5;132;01m{}\u001b[39;00m\u001b[38;5;124m\"\u001b[39m\u001b[38;5;124m failed in \u001b[39m\u001b[38;5;124m'\u001b[39m\n\u001b[1;32m    921\u001b[0m            \u001b[38;5;124m'\u001b[39m\u001b[38;5;132;01m{}\u001b[39;00m\u001b[38;5;124m with error code \u001b[39m\u001b[38;5;132;01m{}\u001b[39;00m\u001b[38;5;124m'\u001b[39m\u001b[38;5;241m.\u001b[39mformat(\u001b[38;5;28mself\u001b[39m\u001b[38;5;241m.\u001b[39mname, command,\n\u001b[1;32m    922\u001b[0m                                           path, errorcode))\n\u001b[0;32m--> 923\u001b[0m     \u001b[38;5;28;01mraise\u001b[39;00m CalculationFailed(msg)\n\u001b[1;32m    925\u001b[0m \u001b[38;5;28mself\u001b[39m\u001b[38;5;241m.\u001b[39mread_results()\n",
      "\u001b[0;31mCalculationFailed\u001b[0m: Calculator \"pwcalculator\" failed with command \"mpirun -np 2 /home/jovyan/.aiida_venvs/blitz_shell_koopmans/bin/pw.x -in espresso.pwi > espresso.pwo 2>&1\" failed in /home/jovyan/work/blitz with error code 127"
     ]
    }
   ],
   "source": [
    "pw_calculator.calculate() # the error is expected, the mpirun is not installed in the current blitz env."
   ]
  },
  {
   "cell_type": "code",
   "execution_count": 11,
   "metadata": {},
   "outputs": [
    {
     "data": {
      "text/plain": [
       "{'_parameters': {'calculation': 'scf', 'outdir': PosixPath('/home/jovyan/work/blitz/TMP'), 'prefix': 'kc', 'conv_thr': 3.6000000000000005e-08, 'verbosity': 'high', 'tot_charge': 0, 'tot_magnetization': 0, 'nbnd': 10, 'ecutwfc': 65.0, 'ecutrho': 260.0, 'kpts': [1, 1, 1], 'nspin': 2, 'pseudopotentials': {'O': 'O_ONCV_PBE-1.2.upf'}, 'pseudo_dir': PosixPath('/home/jovyan/project/blitz_shell_koopmans/codes/koopmans/src/koopmans/pseudopotentials/sg15_v1.2/pbe'), 'gamma_only': False, 'koffset': [0, 0, 0], 'ibrav': 0},\n",
       " 'atoms': Atoms(symbols='O3', pbc=False, cell=[14.1738, 12.0, 12.66], tags=..., calculator=PWCalculator(...)),\n",
       " 'results': {},\n",
       " '_directory': PosixPath('/home/jovyan/work/blitz'),\n",
       " 'prefix': 'espresso',\n",
       " 'name': 'pwcalculator',\n",
       " 'command': 'mpirun -np 2 /home/jovyan/.aiida_venvs/blitz_shell_koopmans/bin/pw.x -in PREFIX.pwi > PREFIX.pwo 2>&1',\n",
       " 'calc': None,\n",
       " 'skip_qc': False,\n",
       " '__koopmans_name__': 'PWCalculator',\n",
       " '__koopmans_module__': 'koopmans.calculators._pw'}"
      ]
     },
     "execution_count": 11,
     "metadata": {},
     "output_type": "execute_result"
    }
   ],
   "source": [
    "pw_calculator.todict()"
   ]
  },
  {
   "cell_type": "markdown",
   "metadata": {},
   "source": [
    "### trying to use aiida-ase\n",
    "\n",
    "non funziona, xk 1. é fatto per GPAW 2. richiede installato koopmans e tutto il resto sul cluster."
   ]
  },
  {
   "cell_type": "code",
   "execution_count": 12,
   "metadata": {},
   "outputs": [],
   "source": [
    "from aiida import common, engine, orm, plugins, load_profile\n",
    "load_profile()\n",
    "\n",
    "import copy"
   ]
  },
  {
   "cell_type": "code",
   "execution_count": 13,
   "metadata": {},
   "outputs": [],
   "source": [
    "AseCalculation = plugins.CalculationFactory('ase.ase')"
   ]
  },
  {
   "cell_type": "code",
   "execution_count": 14,
   "metadata": {},
   "outputs": [],
   "source": [
    " # generate an example structure\n",
    "structure = orm.StructureData(ase=pw_calculator.todict()['atoms'])\n",
    "\n",
    "# k-point information\n",
    "kpoints = orm.KpointsData()\n",
    "kpoints.set_kpoints_mesh([1,1,1])"
   ]
  },
  {
   "cell_type": "code",
   "execution_count": 15,
   "metadata": {},
   "outputs": [],
   "source": [
    "# refine the dict, something cannot be serialized (like PosixPath)\n",
    "refined_calculator = copy.deepcopy(pw_calculator.todict())"
   ]
  },
  {
   "cell_type": "code",
   "execution_count": 16,
   "metadata": {},
   "outputs": [
    {
     "data": {
      "text/plain": [
       "PosixPath('/home/jovyan/work/blitz')"
      ]
     },
     "execution_count": 16,
     "metadata": {},
     "output_type": "execute_result"
    }
   ],
   "source": [
    "refined_calculator.pop('_directory',None)"
   ]
  },
  {
   "cell_type": "code",
   "execution_count": 17,
   "metadata": {},
   "outputs": [
    {
     "data": {
      "text/plain": [
       "PosixPath('/home/jovyan/work/blitz/TMP')"
      ]
     },
     "execution_count": 17,
     "metadata": {},
     "output_type": "execute_result"
    }
   ],
   "source": [
    "refined_calculator['_parameters'].pop('outdir')"
   ]
  },
  {
   "cell_type": "code",
   "execution_count": 18,
   "metadata": {},
   "outputs": [
    {
     "data": {
      "text/plain": [
       "Atoms(symbols='O3', pbc=False, cell=[14.1738, 12.0, 12.66], tags=..., calculator=PWCalculator(...))"
      ]
     },
     "execution_count": 18,
     "metadata": {},
     "output_type": "execute_result"
    }
   ],
   "source": [
    "refined_calculator.pop('atoms')"
   ]
  },
  {
   "cell_type": "code",
   "execution_count": 19,
   "metadata": {},
   "outputs": [],
   "source": [
    "refined_calculator['name'] = 'espresso'"
   ]
  },
  {
   "cell_type": "code",
   "execution_count": 20,
   "metadata": {},
   "outputs": [
    {
     "data": {
      "text/plain": [
       "{'_parameters': {'calculation': 'scf', 'prefix': 'kc', 'conv_thr': 3.6000000000000005e-08, 'verbosity': 'high', 'tot_charge': 0, 'tot_magnetization': 0, 'nbnd': 10, 'ecutwfc': 65.0, 'ecutrho': 260.0, 'kpts': [1, 1, 1], 'nspin': 2, 'pseudopotentials': {'O': 'O_ONCV_PBE-1.2.upf'}, 'pseudo_dir': PosixPath('/home/jovyan/project/blitz_shell_koopmans/codes/koopmans/src/koopmans/pseudopotentials/sg15_v1.2/pbe'), 'gamma_only': False, 'koffset': [0, 0, 0], 'ibrav': 0},\n",
       " 'results': {},\n",
       " 'prefix': 'espresso',\n",
       " 'name': 'espresso',\n",
       " 'command': 'mpirun -np 2 /home/jovyan/.aiida_venvs/blitz_shell_koopmans/bin/pw.x -in PREFIX.pwi > PREFIX.pwo 2>&1',\n",
       " 'calc': None,\n",
       " 'skip_qc': False,\n",
       " '__koopmans_name__': 'PWCalculator',\n",
       " '__koopmans_module__': 'koopmans.calculators._pw'}"
      ]
     },
     "execution_count": 20,
     "metadata": {},
     "output_type": "execute_result"
    }
   ],
   "source": [
    "refined_calculator"
   ]
  },
  {
   "cell_type": "code",
   "execution_count": 23,
   "metadata": {},
   "outputs": [
    {
     "ename": "KeyError",
     "evalue": "'pseudo_dir'",
     "output_type": "error",
     "traceback": [
      "\u001b[0;31m---------------------------------------------------------------------------\u001b[0m",
      "\u001b[0;31mKeyError\u001b[0m                                  Traceback (most recent call last)",
      "Cell \u001b[0;32mIn[23], line 1\u001b[0m\n\u001b[0;32m----> 1\u001b[0m \u001b[43mrefined_calculator\u001b[49m\u001b[43m[\u001b[49m\u001b[38;5;124;43m'\u001b[39;49m\u001b[38;5;124;43m_parameters\u001b[39;49m\u001b[38;5;124;43m'\u001b[39;49m\u001b[43m]\u001b[49m\u001b[38;5;241;43m.\u001b[39;49m\u001b[43mpop\u001b[49m\u001b[43m(\u001b[49m\u001b[38;5;124;43m'\u001b[39;49m\u001b[38;5;124;43mpseudo_dir\u001b[39;49m\u001b[38;5;124;43m'\u001b[39;49m\u001b[43m)\u001b[49m\n\u001b[1;32m      2\u001b[0m refined_calculator[\u001b[38;5;124m'\u001b[39m\u001b[38;5;124m_parameters\u001b[39m\u001b[38;5;124m'\u001b[39m]\u001b[38;5;241m.\u001b[39mpop(\u001b[38;5;124m'\u001b[39m\u001b[38;5;124mpseudo_dir\u001b[39m\u001b[38;5;124m'\u001b[39m)\n",
      "File \u001b[0;32m/opt/conda/lib/python3.9/_collections_abc.py:904\u001b[0m, in \u001b[0;36mMutableMapping.pop\u001b[0;34m(self, key, default)\u001b[0m\n\u001b[1;32m    900\u001b[0m \u001b[38;5;250m\u001b[39m\u001b[38;5;124;03m'''D.pop(k[,d]) -> v, remove specified key and return the corresponding value.\u001b[39;00m\n\u001b[1;32m    901\u001b[0m \u001b[38;5;124;03m  If key is not found, d is returned if given, otherwise KeyError is raised.\u001b[39;00m\n\u001b[1;32m    902\u001b[0m \u001b[38;5;124;03m'''\u001b[39;00m\n\u001b[1;32m    903\u001b[0m \u001b[38;5;28;01mtry\u001b[39;00m:\n\u001b[0;32m--> 904\u001b[0m     value \u001b[38;5;241m=\u001b[39m \u001b[38;5;28;43mself\u001b[39;49m\u001b[43m[\u001b[49m\u001b[43mkey\u001b[49m\u001b[43m]\u001b[49m\n\u001b[1;32m    905\u001b[0m \u001b[38;5;28;01mexcept\u001b[39;00m \u001b[38;5;167;01mKeyError\u001b[39;00m:\n\u001b[1;32m    906\u001b[0m     \u001b[38;5;28;01mif\u001b[39;00m default \u001b[38;5;129;01mis\u001b[39;00m \u001b[38;5;28mself\u001b[39m\u001b[38;5;241m.\u001b[39m__marker:\n",
      "File \u001b[0;32m~/project/blitz_shell_koopmans/codes/koopmans/src/koopmans/settings/_utils.py:121\u001b[0m, in \u001b[0;36mSettingsDict.__getitem__\u001b[0;34m(self, key)\u001b[0m\n\u001b[1;32m    119\u001b[0m         \u001b[38;5;28mself\u001b[39m\u001b[38;5;241m.\u001b[39mdata[key] \u001b[38;5;241m=\u001b[39m \u001b[38;5;28mself\u001b[39m\u001b[38;5;241m.\u001b[39mdefaults[key]\n\u001b[1;32m    120\u001b[0m     \u001b[38;5;28;01melse\u001b[39;00m:\n\u001b[0;32m--> 121\u001b[0m         \u001b[38;5;28;01mraise\u001b[39;00m \u001b[38;5;167;01mKeyError\u001b[39;00m(key)\n\u001b[1;32m    122\u001b[0m \u001b[38;5;28;01mif\u001b[39;00m key \u001b[38;5;129;01min\u001b[39;00m \u001b[38;5;28mself\u001b[39m\u001b[38;5;241m.\u001b[39mare_paths \u001b[38;5;129;01mand\u001b[39;00m \u001b[38;5;28mself\u001b[39m\u001b[38;5;241m.\u001b[39muse_relative_paths:\n\u001b[1;32m    123\u001b[0m     \u001b[38;5;28;01mreturn\u001b[39;00m Path(os\u001b[38;5;241m.\u001b[39mpath\u001b[38;5;241m.\u001b[39mrelpath(\u001b[38;5;28mself\u001b[39m\u001b[38;5;241m.\u001b[39mdata[key], \u001b[38;5;28mself\u001b[39m\u001b[38;5;241m.\u001b[39mdirectory))\n",
      "\u001b[0;31mKeyError\u001b[0m: 'pseudo_dir'"
     ]
    }
   ],
   "source": [
    "refined_calculator['_parameters'].pop('pseudo_dir')\n",
    "refined_calculator['_parameters'].pop('pseudo_dir')"
   ]
  },
  {
   "cell_type": "code",
   "execution_count": 24,
   "metadata": {},
   "outputs": [],
   "source": [
    "#refined_calculator['_parameters']['pseudo_dir'] = '/home/jovyan/project/blitz_shell_koopmans/codes/koopmans/src/koopmans/pseudopotentials/sg15_v1.2/pbe'"
   ]
  },
  {
   "cell_type": "code",
   "execution_count": 25,
   "metadata": {},
   "outputs": [
    {
     "data": {
      "text/plain": [
       "{'calculation': 'scf', 'prefix': 'kc', 'conv_thr': 3.6000000000000005e-08, 'verbosity': 'high', 'tot_charge': 0, 'tot_magnetization': 0, 'nbnd': 10, 'ecutwfc': 65.0, 'ecutrho': 260.0, 'kpts': [1, 1, 1], 'nspin': 2, 'pseudopotentials': {'O': 'O_ONCV_PBE-1.2.upf'}, 'gamma_only': False, 'koffset': [0, 0, 0], 'ibrav': 0}"
      ]
     },
     "execution_count": 25,
     "metadata": {},
     "output_type": "execute_result"
    }
   ],
   "source": [
    "refined_calculator['_parameters']"
   ]
  },
  {
   "cell_type": "code",
   "execution_count": 26,
   "metadata": {},
   "outputs": [],
   "source": [
    "parameters = {\n",
    "        'calculator': refined_calculator,\n",
    "    }\n",
    "\n",
    "settings = {'CMDLINE': ['python']}"
   ]
  },
  {
   "cell_type": "code",
   "execution_count": null,
   "metadata": {},
   "outputs": [],
   "source": []
  },
  {
   "cell_type": "code",
   "execution_count": 27,
   "metadata": {},
   "outputs": [],
   "source": [
    "builder = AseCalculation.get_builder()\n",
    "builder.code = orm.load_code(\"ls@localhost\")\n",
    "builder.structure = structure\n",
    "builder.kpoints = kpoints\n",
    "builder.parameters = orm.Dict(parameters)\n",
    "builder.settings = orm.Dict(settings)\n",
    "builder.metadata.options.resources = {'num_machines': 1}\n",
    "builder.metadata.options.max_wallclock_seconds = 30 * 60  # 30 minutes\n",
    "builder.metadata.options.withmpi = False"
   ]
  },
  {
   "cell_type": "code",
   "execution_count": 28,
   "metadata": {},
   "outputs": [],
   "source": [
    "from aiida.engine import run"
   ]
  },
  {
   "cell_type": "code",
   "execution_count": 29,
   "metadata": {},
   "outputs": [
    {
     "name": "stderr",
     "output_type": "stream",
     "text": [
      "03/21/2024 02:56:39 PM <3058784> aiida.engine.transports: [ERROR] Exception whilst using transport:\n",
      "Traceback (most recent call last):\n",
      "  File \"/home/jovyan/project/blitz_shell_koopmans/codes/aiida-core/src/aiida/engine/processes/calcjobs/tasks.py\", line 90, in do_upload\n",
      "    calc_info = process.presubmit(folder)\n",
      "  File \"/home/jovyan/project/blitz_shell_koopmans/codes/aiida-core/src/aiida/engine/processes/calcjobs/calcjob.py\", line 829, in presubmit\n",
      "    calc_info = self.prepare_for_submission(folder)\n",
      "  File \"/home/jovyan/project/blitz_shell_koopmans/codes/aiida-ase/src/aiida_ase/calculations/ase.py\", line 200, in prepare_for_submission\n",
      "    if 'PW' in calc_args['mode'].values():\n",
      "UnboundLocalError: local variable 'calc_args' referenced before assignment\n",
      "\n",
      "The above exception was the direct cause of the following exception:\n",
      "\n",
      "Traceback (most recent call last):\n",
      "  File \"/home/jovyan/project/blitz_shell_koopmans/codes/aiida-core/src/aiida/engine/transports.py\", line 105, in request_transport\n",
      "    yield transport_request.future\n",
      "  File \"/home/jovyan/project/blitz_shell_koopmans/codes/aiida-core/src/aiida/engine/processes/calcjobs/tasks.py\", line 92, in do_upload\n",
      "    raise PreSubmitException('exception occurred in presubmit call') from exception\n",
      "aiida.engine.processes.calcjobs.tasks.PreSubmitException: exception occurred in presubmit call\n",
      "\n",
      "03/21/2024 02:56:39 PM <3058784> aiida.orm.nodes.process.calculation.calcjob.CalcJobNode: [REPORT] [129|AseCalculation|on_except]: Traceback (most recent call last):\n",
      "  File \"/home/jovyan/project/blitz_shell_koopmans/codes/aiida-core/src/aiida/engine/processes/calcjobs/tasks.py\", line 90, in do_upload\n",
      "    calc_info = process.presubmit(folder)\n",
      "  File \"/home/jovyan/project/blitz_shell_koopmans/codes/aiida-core/src/aiida/engine/processes/calcjobs/calcjob.py\", line 829, in presubmit\n",
      "    calc_info = self.prepare_for_submission(folder)\n",
      "  File \"/home/jovyan/project/blitz_shell_koopmans/codes/aiida-ase/src/aiida_ase/calculations/ase.py\", line 200, in prepare_for_submission\n",
      "    if 'PW' in calc_args['mode'].values():\n",
      "UnboundLocalError: local variable 'calc_args' referenced before assignment\n",
      "\n",
      "The above exception was the direct cause of the following exception:\n",
      "\n",
      "Traceback (most recent call last):\n",
      "  File \"/home/jovyan/.aiida_venvs/blitz_shell_koopmans/lib/python3.9/site-packages/plumpy/processes.py\", line 1224, in step\n",
      "    next_state = await self._run_task(self._state.execute)\n",
      "  File \"/home/jovyan/.aiida_venvs/blitz_shell_koopmans/lib/python3.9/site-packages/plumpy/processes.py\", line 573, in _run_task\n",
      "    result = await coro(*args, **kwargs)\n",
      "  File \"/home/jovyan/project/blitz_shell_koopmans/codes/aiida-core/src/aiida/engine/processes/calcjobs/tasks.py\", line 502, in execute\n",
      "    skip_submit = await self._launch_task(task_upload_job, self.process, transport_queue)\n",
      "  File \"/home/jovyan/project/blitz_shell_koopmans/codes/aiida-core/src/aiida/engine/processes/calcjobs/tasks.py\", line 622, in _launch_task\n",
      "    result = await self._task\n",
      "  File \"/opt/conda/lib/python3.9/asyncio/tasks.py\", line 328, in __wakeup\n",
      "    future.result()\n",
      "  File \"/home/jovyan/project/blitz_shell_koopmans/codes/aiida-core/src/aiida/engine/utils.py\", line 134, in execute_coroutine\n",
      "    result = await coro(future)\n",
      "  File \"/home/jovyan/project/blitz_shell_koopmans/codes/aiida-core/src/aiida/engine/processes/calcjobs/tasks.py\", line 104, in task_upload_job\n",
      "    skip_submit = await exponential_backoff_retry(\n",
      "  File \"/home/jovyan/project/blitz_shell_koopmans/codes/aiida-core/src/aiida/engine/utils.py\", line 202, in exponential_backoff_retry\n",
      "    result = await coro()\n",
      "  File \"/home/jovyan/project/blitz_shell_koopmans/codes/aiida-core/src/aiida/engine/processes/calcjobs/tasks.py\", line 92, in do_upload\n",
      "    raise PreSubmitException('exception occurred in presubmit call') from exception\n",
      "aiida.engine.processes.calcjobs.tasks.PreSubmitException: exception occurred in presubmit call\n",
      "\n"
     ]
    },
    {
     "ename": "PreSubmitException",
     "evalue": "exception occurred in presubmit call",
     "output_type": "error",
     "traceback": [
      "\u001b[0;31m---------------------------------------------------------------------------\u001b[0m",
      "\u001b[0;31mUnboundLocalError\u001b[0m                         Traceback (most recent call last)",
      "File \u001b[0;32m~/project/blitz_shell_koopmans/codes/aiida-core/src/aiida/engine/processes/calcjobs/tasks.py:90\u001b[0m, in \u001b[0;36mtask_upload_job.<locals>.do_upload\u001b[0;34m()\u001b[0m\n\u001b[1;32m     89\u001b[0m \u001b[38;5;28;01mtry\u001b[39;00m:\n\u001b[0;32m---> 90\u001b[0m     calc_info \u001b[38;5;241m=\u001b[39m \u001b[43mprocess\u001b[49m\u001b[38;5;241;43m.\u001b[39;49m\u001b[43mpresubmit\u001b[49m\u001b[43m(\u001b[49m\u001b[43mfolder\u001b[49m\u001b[43m)\u001b[49m\n\u001b[1;32m     91\u001b[0m \u001b[38;5;28;01mexcept\u001b[39;00m \u001b[38;5;167;01mException\u001b[39;00m \u001b[38;5;28;01mas\u001b[39;00m exception:\n",
      "File \u001b[0;32m~/project/blitz_shell_koopmans/codes/aiida-core/src/aiida/engine/processes/calcjobs/calcjob.py:829\u001b[0m, in \u001b[0;36mCalcJob.presubmit\u001b[0;34m(self, folder)\u001b[0m\n\u001b[1;32m    827\u001b[0m     code\u001b[38;5;241m.\u001b[39mvalidate_working_directory(folder)\n\u001b[0;32m--> 829\u001b[0m calc_info \u001b[38;5;241m=\u001b[39m \u001b[38;5;28;43mself\u001b[39;49m\u001b[38;5;241;43m.\u001b[39;49m\u001b[43mprepare_for_submission\u001b[49m\u001b[43m(\u001b[49m\u001b[43mfolder\u001b[49m\u001b[43m)\u001b[49m\n\u001b[1;32m    830\u001b[0m calc_info\u001b[38;5;241m.\u001b[39muuid \u001b[38;5;241m=\u001b[39m \u001b[38;5;28mstr\u001b[39m(\u001b[38;5;28mself\u001b[39m\u001b[38;5;241m.\u001b[39mnode\u001b[38;5;241m.\u001b[39muuid)\n",
      "File \u001b[0;32m~/project/blitz_shell_koopmans/codes/aiida-ase/src/aiida_ase/calculations/ase.py:200\u001b[0m, in \u001b[0;36mAseCalculation.prepare_for_submission\u001b[0;34m(self, folder)\u001b[0m\n\u001b[1;32m    199\u001b[0m \u001b[38;5;28;01mtry\u001b[39;00m:\n\u001b[0;32m--> 200\u001b[0m     \u001b[38;5;28;01mif\u001b[39;00m \u001b[38;5;124m'\u001b[39m\u001b[38;5;124mPW\u001b[39m\u001b[38;5;124m'\u001b[39m \u001b[38;5;129;01min\u001b[39;00m \u001b[43mcalc_args\u001b[49m[\u001b[38;5;124m'\u001b[39m\u001b[38;5;124mmode\u001b[39m\u001b[38;5;124m'\u001b[39m]\u001b[38;5;241m.\u001b[39mvalues():\n\u001b[1;32m    201\u001b[0m         all_imports\u001b[38;5;241m.\u001b[39mappend(\u001b[38;5;124m'\u001b[39m\u001b[38;5;124mfrom gpaw import PW\u001b[39m\u001b[38;5;124m'\u001b[39m)\n",
      "\u001b[0;31mUnboundLocalError\u001b[0m: local variable 'calc_args' referenced before assignment",
      "\nThe above exception was the direct cause of the following exception:\n",
      "\u001b[0;31mPreSubmitException\u001b[0m                        Traceback (most recent call last)",
      "Cell \u001b[0;32mIn[29], line 1\u001b[0m\n\u001b[0;32m----> 1\u001b[0m run \u001b[38;5;241m=\u001b[39m \u001b[43mrun\u001b[49m\u001b[43m(\u001b[49m\u001b[43mbuilder\u001b[49m\u001b[43m)\u001b[49m\n",
      "File \u001b[0;32m~/project/blitz_shell_koopmans/codes/aiida-core/src/aiida/engine/launch.py:47\u001b[0m, in \u001b[0;36mrun\u001b[0;34m(process, inputs, **kwargs)\u001b[0m\n\u001b[1;32m     44\u001b[0m \u001b[38;5;28;01melse\u001b[39;00m:\n\u001b[1;32m     45\u001b[0m     runner \u001b[38;5;241m=\u001b[39m manager\u001b[38;5;241m.\u001b[39mget_manager()\u001b[38;5;241m.\u001b[39mget_runner()\n\u001b[0;32m---> 47\u001b[0m \u001b[38;5;28;01mreturn\u001b[39;00m \u001b[43mrunner\u001b[49m\u001b[38;5;241;43m.\u001b[39;49m\u001b[43mrun\u001b[49m\u001b[43m(\u001b[49m\u001b[43mprocess\u001b[49m\u001b[43m,\u001b[49m\u001b[43m \u001b[49m\u001b[43minputs\u001b[49m\u001b[43m,\u001b[49m\u001b[43m \u001b[49m\u001b[38;5;241;43m*\u001b[39;49m\u001b[38;5;241;43m*\u001b[39;49m\u001b[43mkwargs\u001b[49m\u001b[43m)\u001b[49m\n",
      "File \u001b[0;32m~/project/blitz_shell_koopmans/codes/aiida-core/src/aiida/engine/runners.py:276\u001b[0m, in \u001b[0;36mRunner.run\u001b[0;34m(self, process, inputs, **kwargs)\u001b[0m\n\u001b[1;32m    267\u001b[0m \u001b[38;5;28;01mdef\u001b[39;00m \u001b[38;5;21mrun\u001b[39m(\u001b[38;5;28mself\u001b[39m, process: TYPE_RUN_PROCESS, inputs: \u001b[38;5;28mdict\u001b[39m[\u001b[38;5;28mstr\u001b[39m, Any] \u001b[38;5;241m|\u001b[39m \u001b[38;5;28;01mNone\u001b[39;00m \u001b[38;5;241m=\u001b[39m \u001b[38;5;28;01mNone\u001b[39;00m, \u001b[38;5;241m*\u001b[39m\u001b[38;5;241m*\u001b[39mkwargs: Any) \u001b[38;5;241m-\u001b[39m\u001b[38;5;241m>\u001b[39m Dict[\u001b[38;5;28mstr\u001b[39m, Any]:\n\u001b[1;32m    268\u001b[0m \u001b[38;5;250m    \u001b[39m\u001b[38;5;124;03m\"\"\"Run the process with the supplied inputs in this runner that will block until the process is completed.\u001b[39;00m\n\u001b[1;32m    269\u001b[0m \n\u001b[1;32m    270\u001b[0m \u001b[38;5;124;03m    The return value will be the results of the completed process\u001b[39;00m\n\u001b[0;32m   (...)\u001b[0m\n\u001b[1;32m    274\u001b[0m \u001b[38;5;124;03m    :return: the outputs of the process\u001b[39;00m\n\u001b[1;32m    275\u001b[0m \u001b[38;5;124;03m    \"\"\"\u001b[39;00m\n\u001b[0;32m--> 276\u001b[0m     result, _ \u001b[38;5;241m=\u001b[39m \u001b[38;5;28;43mself\u001b[39;49m\u001b[38;5;241;43m.\u001b[39;49m\u001b[43m_run\u001b[49m\u001b[43m(\u001b[49m\u001b[43mprocess\u001b[49m\u001b[43m,\u001b[49m\u001b[43m \u001b[49m\u001b[43minputs\u001b[49m\u001b[43m,\u001b[49m\u001b[43m \u001b[49m\u001b[38;5;241;43m*\u001b[39;49m\u001b[38;5;241;43m*\u001b[39;49m\u001b[43mkwargs\u001b[49m\u001b[43m)\u001b[49m\n\u001b[1;32m    277\u001b[0m     \u001b[38;5;28;01mreturn\u001b[39;00m result\n",
      "File \u001b[0;32m~/project/blitz_shell_koopmans/codes/aiida-core/src/aiida/engine/runners.py:260\u001b[0m, in \u001b[0;36mRunner._run\u001b[0;34m(self, process, inputs, **kwargs)\u001b[0m\n\u001b[1;32m    258\u001b[0m     signal\u001b[38;5;241m.\u001b[39msignal(signal\u001b[38;5;241m.\u001b[39mSIGINT, kill_process)\n\u001b[1;32m    259\u001b[0m     signal\u001b[38;5;241m.\u001b[39msignal(signal\u001b[38;5;241m.\u001b[39mSIGTERM, kill_process)\n\u001b[0;32m--> 260\u001b[0m     \u001b[43mprocess_inited\u001b[49m\u001b[38;5;241;43m.\u001b[39;49m\u001b[43mexecute\u001b[49m\u001b[43m(\u001b[49m\u001b[43m)\u001b[49m\n\u001b[1;32m    261\u001b[0m \u001b[38;5;28;01mfinally\u001b[39;00m:\n\u001b[1;32m    262\u001b[0m     signal\u001b[38;5;241m.\u001b[39msignal(signal\u001b[38;5;241m.\u001b[39mSIGINT, original_handler_int)\n",
      "File \u001b[0;32m~/.aiida_venvs/blitz_shell_koopmans/lib/python3.9/site-packages/plumpy/processes.py:90\u001b[0m, in \u001b[0;36mensure_not_closed.<locals>.func_wrapper\u001b[0;34m(self, *args, **kwargs)\u001b[0m\n\u001b[1;32m     88\u001b[0m \u001b[38;5;28;01mif\u001b[39;00m \u001b[38;5;28mself\u001b[39m\u001b[38;5;241m.\u001b[39m_closed:\n\u001b[1;32m     89\u001b[0m     \u001b[38;5;28;01mraise\u001b[39;00m exceptions\u001b[38;5;241m.\u001b[39mClosedError(\u001b[38;5;124m'\u001b[39m\u001b[38;5;124mProcess is closed\u001b[39m\u001b[38;5;124m'\u001b[39m)\n\u001b[0;32m---> 90\u001b[0m \u001b[38;5;28;01mreturn\u001b[39;00m \u001b[43mfunc\u001b[49m\u001b[43m(\u001b[49m\u001b[38;5;28;43mself\u001b[39;49m\u001b[43m,\u001b[49m\u001b[43m \u001b[49m\u001b[38;5;241;43m*\u001b[39;49m\u001b[43margs\u001b[49m\u001b[43m,\u001b[49m\u001b[43m \u001b[49m\u001b[38;5;241;43m*\u001b[39;49m\u001b[38;5;241;43m*\u001b[39;49m\u001b[43mkwargs\u001b[49m\u001b[43m)\u001b[49m\n",
      "File \u001b[0;32m~/.aiida_venvs/blitz_shell_koopmans/lib/python3.9/site-packages/plumpy/processes.py:1203\u001b[0m, in \u001b[0;36mProcess.execute\u001b[0;34m(self)\u001b[0m\n\u001b[1;32m   1200\u001b[0m \u001b[38;5;28;01mif\u001b[39;00m \u001b[38;5;129;01mnot\u001b[39;00m \u001b[38;5;28mself\u001b[39m\u001b[38;5;241m.\u001b[39mhas_terminated():\n\u001b[1;32m   1201\u001b[0m     \u001b[38;5;28mself\u001b[39m\u001b[38;5;241m.\u001b[39mloop\u001b[38;5;241m.\u001b[39mrun_until_complete(\u001b[38;5;28mself\u001b[39m\u001b[38;5;241m.\u001b[39mstep_until_terminated())\n\u001b[0;32m-> 1203\u001b[0m \u001b[38;5;28;01mreturn\u001b[39;00m \u001b[38;5;28;43mself\u001b[39;49m\u001b[38;5;241;43m.\u001b[39;49m\u001b[43mfuture\u001b[49m\u001b[43m(\u001b[49m\u001b[43m)\u001b[49m\u001b[38;5;241;43m.\u001b[39;49m\u001b[43mresult\u001b[49m\u001b[43m(\u001b[49m\u001b[43m)\u001b[49m\n",
      "File \u001b[0;32m~/.aiida_venvs/blitz_shell_koopmans/lib/python3.9/site-packages/plumpy/processes.py:1224\u001b[0m, in \u001b[0;36mProcess.step\u001b[0;34m(self)\u001b[0m\n\u001b[1;32m   1222\u001b[0m next_state \u001b[38;5;241m=\u001b[39m \u001b[38;5;28;01mNone\u001b[39;00m\n\u001b[1;32m   1223\u001b[0m \u001b[38;5;28;01mtry\u001b[39;00m:\n\u001b[0;32m-> 1224\u001b[0m     next_state \u001b[38;5;241m=\u001b[39m \u001b[38;5;28;01mawait\u001b[39;00m \u001b[38;5;28mself\u001b[39m\u001b[38;5;241m.\u001b[39m_run_task(\u001b[38;5;28mself\u001b[39m\u001b[38;5;241m.\u001b[39m_state\u001b[38;5;241m.\u001b[39mexecute)\n\u001b[1;32m   1225\u001b[0m \u001b[38;5;28;01mexcept\u001b[39;00m process_states\u001b[38;5;241m.\u001b[39mInterruption \u001b[38;5;28;01mas\u001b[39;00m exception:\n\u001b[1;32m   1226\u001b[0m     \u001b[38;5;66;03m# If the interruption was caused by a call to a Process method then there should\u001b[39;00m\n\u001b[1;32m   1227\u001b[0m     \u001b[38;5;66;03m# be an interrupt action ready to be executed, so just check if the cookie matches\u001b[39;00m\n\u001b[1;32m   1228\u001b[0m     \u001b[38;5;66;03m# that of the exception i.e. if it is the _same_ interruption.  If not cancel and\u001b[39;00m\n\u001b[1;32m   1229\u001b[0m     \u001b[38;5;66;03m# build the interrupt action below\u001b[39;00m\n\u001b[1;32m   1230\u001b[0m     \u001b[38;5;28;01mif\u001b[39;00m \u001b[38;5;28mself\u001b[39m\u001b[38;5;241m.\u001b[39m_interrupt_action \u001b[38;5;129;01mis\u001b[39;00m \u001b[38;5;129;01mnot\u001b[39;00m \u001b[38;5;28;01mNone\u001b[39;00m:\n",
      "File \u001b[0;32m~/.aiida_venvs/blitz_shell_koopmans/lib/python3.9/site-packages/plumpy/processes.py:573\u001b[0m, in \u001b[0;36mProcess._run_task\u001b[0;34m(self, callback, *args, **kwargs)\u001b[0m\n\u001b[1;32m    571\u001b[0m coro \u001b[38;5;241m=\u001b[39m utils\u001b[38;5;241m.\u001b[39mensure_coroutine(callback)\n\u001b[1;32m    572\u001b[0m \u001b[38;5;28;01mwith\u001b[39;00m \u001b[38;5;28mself\u001b[39m\u001b[38;5;241m.\u001b[39m_process_scope():\n\u001b[0;32m--> 573\u001b[0m     result \u001b[38;5;241m=\u001b[39m \u001b[38;5;28;01mawait\u001b[39;00m coro(\u001b[38;5;241m*\u001b[39margs, \u001b[38;5;241m*\u001b[39m\u001b[38;5;241m*\u001b[39mkwargs)\n\u001b[1;32m    574\u001b[0m \u001b[38;5;28;01mreturn\u001b[39;00m result\n",
      "File \u001b[0;32m~/project/blitz_shell_koopmans/codes/aiida-core/src/aiida/engine/processes/calcjobs/tasks.py:502\u001b[0m, in \u001b[0;36mWaiting.execute\u001b[0;34m(self)\u001b[0m\n\u001b[1;32m    500\u001b[0m \u001b[38;5;28;01mtry\u001b[39;00m:\n\u001b[1;32m    501\u001b[0m     \u001b[38;5;28;01mif\u001b[39;00m \u001b[38;5;28mself\u001b[39m\u001b[38;5;241m.\u001b[39m_command \u001b[38;5;241m==\u001b[39m UPLOAD_COMMAND:\n\u001b[0;32m--> 502\u001b[0m         skip_submit \u001b[38;5;241m=\u001b[39m \u001b[38;5;28;01mawait\u001b[39;00m \u001b[38;5;28mself\u001b[39m\u001b[38;5;241m.\u001b[39m_launch_task(task_upload_job, \u001b[38;5;28mself\u001b[39m\u001b[38;5;241m.\u001b[39mprocess, transport_queue)\n\u001b[1;32m    503\u001b[0m         \u001b[38;5;28;01mif\u001b[39;00m skip_submit:\n\u001b[1;32m    504\u001b[0m             result \u001b[38;5;241m=\u001b[39m \u001b[38;5;28mself\u001b[39m\u001b[38;5;241m.\u001b[39mretrieve(monitor_result\u001b[38;5;241m=\u001b[39m\u001b[38;5;28mself\u001b[39m\u001b[38;5;241m.\u001b[39m_monitor_result)\n",
      "File \u001b[0;32m~/project/blitz_shell_koopmans/codes/aiida-core/src/aiida/engine/processes/calcjobs/tasks.py:622\u001b[0m, in \u001b[0;36mWaiting._launch_task\u001b[0;34m(self, coro, *args, **kwargs)\u001b[0m\n\u001b[1;32m    620\u001b[0m \u001b[38;5;28;01mtry\u001b[39;00m:\n\u001b[1;32m    621\u001b[0m     \u001b[38;5;28mself\u001b[39m\u001b[38;5;241m.\u001b[39m_task \u001b[38;5;241m=\u001b[39m interruptable_task(task_fn)\n\u001b[0;32m--> 622\u001b[0m     result \u001b[38;5;241m=\u001b[39m \u001b[38;5;28;01mawait\u001b[39;00m \u001b[38;5;28mself\u001b[39m\u001b[38;5;241m.\u001b[39m_task\n\u001b[1;32m    623\u001b[0m     \u001b[38;5;28;01mreturn\u001b[39;00m result\n\u001b[1;32m    624\u001b[0m \u001b[38;5;28;01mfinally\u001b[39;00m:\n",
      "File \u001b[0;32m/opt/conda/lib/python3.9/asyncio/tasks.py:328\u001b[0m, in \u001b[0;36mTask.__wakeup\u001b[0;34m(self, future)\u001b[0m\n\u001b[1;32m    326\u001b[0m \u001b[38;5;28;01mdef\u001b[39;00m \u001b[38;5;21m__wakeup\u001b[39m(\u001b[38;5;28mself\u001b[39m, future):\n\u001b[1;32m    327\u001b[0m     \u001b[38;5;28;01mtry\u001b[39;00m:\n\u001b[0;32m--> 328\u001b[0m         \u001b[43mfuture\u001b[49m\u001b[38;5;241;43m.\u001b[39;49m\u001b[43mresult\u001b[49m\u001b[43m(\u001b[49m\u001b[43m)\u001b[49m\n\u001b[1;32m    329\u001b[0m     \u001b[38;5;28;01mexcept\u001b[39;00m \u001b[38;5;167;01mBaseException\u001b[39;00m \u001b[38;5;28;01mas\u001b[39;00m exc:\n\u001b[1;32m    330\u001b[0m         \u001b[38;5;66;03m# This may also be a cancellation.\u001b[39;00m\n\u001b[1;32m    331\u001b[0m         \u001b[38;5;28mself\u001b[39m\u001b[38;5;241m.\u001b[39m__step(exc)\n",
      "File \u001b[0;32m~/project/blitz_shell_koopmans/codes/aiida-core/src/aiida/engine/utils.py:134\u001b[0m, in \u001b[0;36minterruptable_task.<locals>.execute_coroutine\u001b[0;34m()\u001b[0m\n\u001b[1;32m    132\u001b[0m \u001b[38;5;250m\u001b[39m\u001b[38;5;124;03m\"\"\"Coroutine that wraps the original coroutine and sets it result on the future only if not already set.\"\"\"\u001b[39;00m\n\u001b[1;32m    133\u001b[0m \u001b[38;5;28;01mtry\u001b[39;00m:\n\u001b[0;32m--> 134\u001b[0m     result \u001b[38;5;241m=\u001b[39m \u001b[38;5;28;01mawait\u001b[39;00m coro(future)\n\u001b[1;32m    135\u001b[0m \u001b[38;5;28;01mexcept\u001b[39;00m \u001b[38;5;167;01mException\u001b[39;00m \u001b[38;5;28;01mas\u001b[39;00m exception:\n\u001b[1;32m    136\u001b[0m     \u001b[38;5;28;01mif\u001b[39;00m \u001b[38;5;129;01mnot\u001b[39;00m future\u001b[38;5;241m.\u001b[39mdone():\n",
      "File \u001b[0;32m~/project/blitz_shell_koopmans/codes/aiida-core/src/aiida/engine/processes/calcjobs/tasks.py:104\u001b[0m, in \u001b[0;36mtask_upload_job\u001b[0;34m(process, transport_queue, cancellable)\u001b[0m\n\u001b[1;32m    102\u001b[0m     logger\u001b[38;5;241m.\u001b[39minfo(\u001b[38;5;124mf\u001b[39m\u001b[38;5;124m'\u001b[39m\u001b[38;5;124mscheduled request to upload CalcJob<\u001b[39m\u001b[38;5;132;01m{\u001b[39;00mnode\u001b[38;5;241m.\u001b[39mpk\u001b[38;5;132;01m}\u001b[39;00m\u001b[38;5;124m>\u001b[39m\u001b[38;5;124m'\u001b[39m)\n\u001b[1;32m    103\u001b[0m     ignore_exceptions \u001b[38;5;241m=\u001b[39m (plumpy\u001b[38;5;241m.\u001b[39mfutures\u001b[38;5;241m.\u001b[39mCancelledError, PreSubmitException, plumpy\u001b[38;5;241m.\u001b[39mprocess_states\u001b[38;5;241m.\u001b[39mInterruption)\n\u001b[0;32m--> 104\u001b[0m     skip_submit \u001b[38;5;241m=\u001b[39m \u001b[38;5;28;01mawait\u001b[39;00m exponential_backoff_retry(\n\u001b[1;32m    105\u001b[0m         do_upload, initial_interval, max_attempts, logger\u001b[38;5;241m=\u001b[39mnode\u001b[38;5;241m.\u001b[39mlogger, ignore_exceptions\u001b[38;5;241m=\u001b[39mignore_exceptions\n\u001b[1;32m    106\u001b[0m     )\n\u001b[1;32m    107\u001b[0m \u001b[38;5;28;01mexcept\u001b[39;00m PreSubmitException:\n\u001b[1;32m    108\u001b[0m     \u001b[38;5;28;01mraise\u001b[39;00m\n",
      "File \u001b[0;32m~/project/blitz_shell_koopmans/codes/aiida-core/src/aiida/engine/utils.py:202\u001b[0m, in \u001b[0;36mexponential_backoff_retry\u001b[0;34m(fct, initial_interval, max_attempts, logger, ignore_exceptions)\u001b[0m\n\u001b[1;32m    200\u001b[0m \u001b[38;5;28;01mfor\u001b[39;00m iteration \u001b[38;5;129;01min\u001b[39;00m \u001b[38;5;28mrange\u001b[39m(max_attempts):\n\u001b[1;32m    201\u001b[0m     \u001b[38;5;28;01mtry\u001b[39;00m:\n\u001b[0;32m--> 202\u001b[0m         result \u001b[38;5;241m=\u001b[39m \u001b[38;5;28;01mawait\u001b[39;00m coro()\n\u001b[1;32m    203\u001b[0m         \u001b[38;5;28;01mbreak\u001b[39;00m  \u001b[38;5;66;03m# Finished successfully\u001b[39;00m\n\u001b[1;32m    204\u001b[0m     \u001b[38;5;28;01mexcept\u001b[39;00m \u001b[38;5;167;01mException\u001b[39;00m \u001b[38;5;28;01mas\u001b[39;00m exception:\n\u001b[1;32m    205\u001b[0m         \u001b[38;5;66;03m# Re-raise exceptions that should be ignored\u001b[39;00m\n",
      "File \u001b[0;32m~/project/blitz_shell_koopmans/codes/aiida-core/src/aiida/engine/processes/calcjobs/tasks.py:92\u001b[0m, in \u001b[0;36mtask_upload_job.<locals>.do_upload\u001b[0;34m()\u001b[0m\n\u001b[1;32m     90\u001b[0m     calc_info \u001b[38;5;241m=\u001b[39m process\u001b[38;5;241m.\u001b[39mpresubmit(folder)\n\u001b[1;32m     91\u001b[0m \u001b[38;5;28;01mexcept\u001b[39;00m \u001b[38;5;167;01mException\u001b[39;00m \u001b[38;5;28;01mas\u001b[39;00m exception:\n\u001b[0;32m---> 92\u001b[0m     \u001b[38;5;28;01mraise\u001b[39;00m PreSubmitException(\u001b[38;5;124m'\u001b[39m\u001b[38;5;124mexception occurred in presubmit call\u001b[39m\u001b[38;5;124m'\u001b[39m) \u001b[38;5;28;01mfrom\u001b[39;00m \u001b[38;5;21;01mexception\u001b[39;00m\n\u001b[1;32m     93\u001b[0m \u001b[38;5;28;01melse\u001b[39;00m:\n\u001b[1;32m     94\u001b[0m     remote_folder \u001b[38;5;241m=\u001b[39m execmanager\u001b[38;5;241m.\u001b[39mupload_calculation(node, transport, calc_info, folder)\n",
      "\u001b[0;31mPreSubmitException\u001b[0m: exception occurred in presubmit call"
     ]
    }
   ],
   "source": [
    "run = run(builder)"
   ]
  },
  {
   "cell_type": "markdown",
   "metadata": {},
   "source": [
    "## Trying aiida-shell\n",
    "\n",
    "1. from ase calculator to aiida-shell inputs\n",
    "\n",
    "The first thing to do is to write the input file."
   ]
  },
  {
   "cell_type": "code",
   "execution_count": 30,
   "metadata": {},
   "outputs": [
    {
     "data": {
      "text/plain": [
       "{'_parameters': {'calculation': 'scf', 'outdir': PosixPath('/home/jovyan/work/blitz/TMP'), 'prefix': 'kc', 'conv_thr': 3.6000000000000005e-08, 'verbosity': 'high', 'tot_charge': 0, 'tot_magnetization': 0, 'nbnd': 10, 'ecutwfc': 65.0, 'ecutrho': 260.0, 'kpts': [1, 1, 1], 'nspin': 2, 'pseudopotentials': {'O': 'O_ONCV_PBE-1.2.upf'}, 'pseudo_dir': PosixPath('/home/jovyan/project/blitz_shell_koopmans/codes/koopmans/src/koopmans/pseudopotentials/sg15_v1.2/pbe'), 'gamma_only': False, 'koffset': [0, 0, 0], 'ibrav': 0},\n",
       " 'atoms': Atoms(symbols='O3', pbc=False, cell=[14.1738, 12.0, 12.66], tags=..., calculator=PWCalculator(...)),\n",
       " 'results': {},\n",
       " '_directory': PosixPath('/home/jovyan/work/blitz'),\n",
       " 'prefix': 'espresso',\n",
       " 'name': 'pwcalculator',\n",
       " 'command': 'mpirun -np 2 /home/jovyan/.aiida_venvs/blitz_shell_koopmans/bin/pw.x -in PREFIX.pwi > PREFIX.pwo 2>&1',\n",
       " 'calc': None,\n",
       " 'skip_qc': False,\n",
       " '__koopmans_name__': 'PWCalculator',\n",
       " '__koopmans_module__': 'koopmans.calculators._pw'}"
      ]
     },
     "execution_count": 30,
     "metadata": {},
     "output_type": "execute_result"
    }
   ],
   "source": [
    "pw_calculator.todict()"
   ]
  },
  {
   "cell_type": "code",
   "execution_count": 31,
   "metadata": {},
   "outputs": [
    {
     "ename": "NameError",
     "evalue": "name 'ow_calculator' is not defined",
     "output_type": "error",
     "traceback": [
      "\u001b[0;31m---------------------------------------------------------------------------\u001b[0m",
      "\u001b[0;31mNameError\u001b[0m                                 Traceback (most recent call last)",
      "Cell \u001b[0;32mIn[31], line 1\u001b[0m\n\u001b[0;32m----> 1\u001b[0m \u001b[43mow_calculator\u001b[49m\u001b[38;5;241m.\u001b[39minput\n",
      "\u001b[0;31mNameError\u001b[0m: name 'ow_calculator' is not defined"
     ]
    }
   ],
   "source": [
    "ow_calculator."
   ]
  },
  {
   "cell_type": "code",
   "execution_count": null,
   "metadata": {},
   "outputs": [],
   "source": []
  }
 ],
 "metadata": {
  "kernelspec": {
   "display_name": "blitz_shell_koopmans",
   "language": "python",
   "name": "python3"
  },
  "language_info": {
   "codemirror_mode": {
    "name": "ipython",
    "version": 3
   },
   "file_extension": ".py",
   "mimetype": "text/x-python",
   "name": "python",
   "nbconvert_exporter": "python",
   "pygments_lexer": "ipython3",
   "version": "3.9.13"
  }
 },
 "nbformat": 4,
 "nbformat_minor": 2
}
