{
  "cells": [
    {
      "cell_type": "code",
      "execution_count": 40,
      "metadata": {},
      "outputs": [
        {
          "data": {
            "text/plain": [
              "Profile<uuid='5ca88b1d2d41436bb1747cc5c08179db' name='default'>"
            ]
          },
          "execution_count": 40,
          "metadata": {},
          "output_type": "execute_result"
        }
      ],
      "source": [
        "from aiida import load_profile, orm\n",
        "from aiida_worktree import node, WorkTree, build_node\n",
        "\n",
        "load_profile()"
      ]
    },
    {
      "cell_type": "code",
      "execution_count": 41,
      "metadata": {},
      "outputs": [],
      "source": [
        "import json"
      ]
    },
    {
      "cell_type": "code",
      "execution_count": 42,
      "metadata": {},
      "outputs": [],
      "source": [
        "with open(\"h2o.json\",\"r\") as file:\n",
        "    d = json.load(file)"
      ]
    },
    {
      "cell_type": "code",
      "execution_count": 43,
      "metadata": {},
      "outputs": [
        {
          "data": {
            "text/plain": [
              "{'workflow': {'functional': 'ki',\n",
              "  'method': 'dfpt',\n",
              "  'init_orbitals': 'kohn-sham',\n",
              "  'from_scratch': True,\n",
              "  'alpha_numsteps': 1,\n",
              "  'mt_correction': True,\n",
              "  'pseudo_library': 'sg15'},\n",
              " 'atoms': {'cell_parameters': {'vectors': [[9.5142, 0.0, 0.0],\n",
              "    [0.0, 8.0, 0.0],\n",
              "    [0.0, 0.0, 8.5861]],\n",
              "   'units': 'angstrom',\n",
              "   'periodic': False},\n",
              "  'atomic_positions': {'units': 'angstrom',\n",
              "   'positions': [['O', 6.7571, 6.0, 5.9023166667],\n",
              "    ['H', 7.5142, 6.0, 6.4884166667],\n",
              "    ['H', 6.0, 6.0, 6.4884166667]]}},\n",
              " 'calculator_parameters': {'ecutwfc': 45.0, 'ecutrho': 180.0, 'nbnd': 8}}"
            ]
          },
          "execution_count": 43,
          "metadata": {},
          "output_type": "execute_result"
        }
      ],
      "source": [
        "d"
      ]
    },
    {
      "cell_type": "code",
      "execution_count": 44,
      "metadata": {},
      "outputs": [],
      "source": [
        "\n",
        "ndata = {\"path\": \"aiida_koopmans.calculations.kcw.KcwCalculation\"}\n",
        "kcw_calcjob = build_node(ndata)\n",
        "\n",
        "ndata = {\"path\": \"aiida_quantumespresso.workflows.pw.base.PwBaseWorkChain\"}\n",
        "pw_baseWchain = build_node(ndata)"
      ]
    },
    {
      "cell_type": "code",
      "execution_count": 45,
      "metadata": {},
      "outputs": [
        {
          "name": "stdout",
          "output_type": "stream",
          "text": [
            "Inputs:\n",
            "  - metadata\n",
            "  - code\n",
            "  - monitors\n",
            "  - remote_folder\n",
            "  - parameters\n",
            "  - settings\n",
            "  - parent_folder\n",
            "Outputs:\n",
            "  - remote_folder\n",
            "  - remote_stash\n",
            "  - retrieved\n",
            "  - output_parameters\n",
            "  - bands\n"
          ]
        }
      ],
      "source": [
        "node = kcw_calcjob()\n",
        "print(\"Inputs:\")\n",
        "for input in node.inputs:\n",
        "    if \".\" not in input.name:\n",
        "        print(f\"  - {input.name}\")\n",
        "print(\"Outputs:\")\n",
        "for output in node.outputs:\n",
        "    if \".\" not in output.name:\n",
        "        print(f\"  - {output.name}\")"
      ]
    },
    {
      "cell_type": "code",
      "execution_count": 46,
      "metadata": {},
      "outputs": [
        {
          "name": "stdout",
          "output_type": "stream",
          "text": [
            "Inputs:\n",
            "  - metadata\n",
            "  - max_iterations\n",
            "  - clean_workdir\n",
            "  - handler_overrides\n",
            "  - pw\n",
            "  - kpoints\n",
            "  - kpoints_distance\n",
            "  - kpoints_force_parity\n",
            "Outputs:\n",
            "  - remote_folder\n",
            "  - remote_stash\n",
            "  - retrieved\n",
            "  - output_parameters\n",
            "  - output_structure\n",
            "  - output_trajectory\n",
            "  - output_band\n",
            "  - output_kpoints\n",
            "  - output_atomic_occupations\n"
          ]
        }
      ],
      "source": [
        "node = pw_baseWchain()\n",
        "print(\"Inputs:\")\n",
        "for input in node.inputs:\n",
        "    if \".\" not in input.name:\n",
        "        print(f\"  - {input.name}\")\n",
        "print(\"Outputs:\")\n",
        "for output in node.outputs:\n",
        "    if \".\" not in output.name:\n",
        "        print(f\"  - {output.name}\")"
      ]
    },
    {
      "cell_type": "code",
      "execution_count": 47,
      "metadata": {},
      "outputs": [],
      "source": [
        "for_ase = {\n",
        "    \"numbers\":None,\n",
        "    \"pbc\": [False,False,False],\n",
        "    \"positions\":d[\"atoms\"][\"atomic_positions\"][\"positions\"],\n",
        "    \"cell\":d[\"atoms\"][\"cell_parameters\"][\"vectors\"]\n",
        "}\n",
        "\n",
        "atoms = \"\"\n",
        "positions = []\n",
        "for i in for_ase[\"positions\"]:\n",
        "    atoms += i[0]\n",
        "    positions.append(i[1:])\n"
      ]
    },
    {
      "cell_type": "code",
      "execution_count": 48,
      "metadata": {},
      "outputs": [],
      "source": [
        "from ase_koopmans import Atoms\n",
        "import copy\n",
        "\n",
        "H2O = Atoms(atoms,\n",
        "    positions=positions,\n",
        "    cell=d[\"atoms\"][\"cell_parameters\"][\"vectors\"],\n",
        "    pbc=[0, 0, 0])\n"
      ]
    },
    {
      "cell_type": "code",
      "execution_count": 59,
      "metadata": {},
      "outputs": [],
      "source": [
        "\n",
        "\n",
        "structure = orm.StructureData(ase=H2O)\n",
        "\n",
        "pw_code = orm.load_code(\"pw-7.2@localhost\")\n",
        "kcw_code = orm.load_code(\"kcw-7.2@localhost\")\n",
        "pseudo_family = orm.load_group(\"sg15_v1.2/pbe/SR\")\n",
        "pseudos = pseudo_family.get_pseudos(structure=structure) \n",
        "valence = 1+1+6\n",
        "\n",
        "scf_params = {\n",
        " 'SYSTEM': {'nosym': False,\n",
        "  'occupations': 'fixed',\n",
        "  'nbnd': d[\"calculator_parameters\"][\"nbnd\"],\n",
        "  'tot_magnetization': 0,\n",
        "  'nspin': 2,\n",
        "  'starting_magnetization(1)': 0.0,\n",
        "  'ecutwfc': d[\"calculator_parameters\"][\"ecutwfc\"],\n",
        "  'ecutrho': d[\"calculator_parameters\"][\"ecutrho\"]},\n",
        "}\n",
        "\n",
        "if not d[\"atoms\"]['cell_parameters'].get(\"periodic\", True): scf_params[\"SYSTEM\"]['assume_isolated'] = \"mt\"\n",
        "\n",
        "##########################\n",
        "control_namelist = {\n",
        "                'kcw_iverbosity':1,\n",
        "                'kcw_at_ks'      :True,\n",
        "                'calculation'    :'wann2kcw',\n",
        "                'lrpa'           :False,\n",
        "                'mp1'            :1,\n",
        "                'mp2'            :1,\n",
        "                'mp3'            :1,\n",
        "                'homo_only'      :False,\n",
        "                'read_unitary_matrix' : False,\n",
        "                'l_vcut'         :False,\n",
        "                'spin_component' :1,\n",
        "                }\n",
        "\n",
        "if not d[\"atoms\"]['cell_parameters'].get(\"periodic\", True): control_namelist['assume_isolated'] = \"m-t\"\n",
        "\n",
        "wannier_dict = {\n",
        "                \"check_ks\"       : True,\n",
        "                \"num_wann_occ\"   : valence,\n",
        "                \"num_wann_emp\"   : d[\"calculator_parameters\"][\"nbnd\"]-valence,\n",
        "                \"have_empty\"     : True,\n",
        "                \"has_disentangle\": False,\n",
        "                    }\n",
        "\n",
        "screening_dict = {\n",
        "    'tr2'         : 1e-18,\n",
        "    'nmix'        : 4,\n",
        "    'niter'       : 33,\n",
        "    'check_spread': True,\n",
        "}\n",
        "\n",
        "ham_dict = {\n",
        "   'do_bands'       : False,\n",
        "   'use_ws_distance': True,\n",
        "   'write_hr'       : True,\n",
        "   'l_alpha_corr'   : True, #when?\n",
        "}\n",
        "##########################\n",
        "\n",
        "\n",
        "wann2kcw_params = {\n",
        "        \"CONTROL\":copy.deepcopy(control_namelist),\n",
        "        \"WANNIER\":wannier_dict,\n",
        "    }\n",
        "\n",
        "kc_screen_params = {\n",
        "        \"CONTROL\":copy.deepcopy(control_namelist),\n",
        "        \"SCREEN\":screening_dict,\n",
        "        \"WANNIER\":wannier_dict,\n",
        "    }\n",
        "kc_screen_params[\"CONTROL\"][\"calculation\"]=\"screen\"\n",
        "\n",
        "\n",
        "kc_ham_params = {\n",
        "        \"CONTROL\":copy.deepcopy(control_namelist),\n",
        "        \"HAM\":ham_dict,\n",
        "        \"WANNIER\":wannier_dict,\n",
        "    }\n",
        "kc_ham_params[\"CONTROL\"][\"calculation\"]= \"ham\"\n",
        "\n",
        "\n",
        "metadata = {\n",
        "    'options': {\n",
        "        'max_wallclock_seconds': 3600,\n",
        "        'resources': {\n",
        "            \"num_machines\": 1,\n",
        "            \"num_mpiprocs_per_machine\": 10,\n",
        "            \"num_cores_per_mpiproc\": 1,\n",
        "        },\n",
        "        'custom_scheduler_commands': u\"export OMP_NUM_THREADS=\"+str(1),\n",
        "    }\n",
        "}"
      ]
    },
    {
      "cell_type": "code",
      "execution_count": 62,
      "metadata": {},
      "outputs": [],
      "source": [
        "from aiida_worktree import WorkTree\n",
        "\n",
        "wt = WorkTree(\"scf_kcw_H2O\")\n",
        "\n",
        "# SCF node:\n",
        "scf = wt.nodes.new(pw_baseWchain, name=\"scf\")\n",
        "scf.set_from_protocol(\n",
        "    code = pw_code,\n",
        "    structure = structure,\n",
        "    overrides = {\"pw\":{\"parameters\":scf_params}}\n",
        ")\n",
        "scf.inputs[\"pw\"].value[\"metadata\"]=metadata\n",
        "scf.inputs[\"pw\"].value[\"metadata\"]=metadata\n",
        "scf.inputs[\"pw\"].value[\"pseudos\"]=pseudos\n",
        "\n",
        "# KC conversion node:\n",
        "kc_conv = wt.nodes.new(kcw_calcjob, name=\"kc_conversion\")\n",
        "kc_conv.set(\n",
        "    {\n",
        "        \"code\": kcw_code,\n",
        "        \"parameters\": orm.Dict(wann2kcw_params),\n",
        "        \"metadata\": metadata,\n",
        "    }\n",
        ")\n",
        "wt.links.new(scf.outputs[\"remote_folder\"], kc_conv.inputs[\"parent_folder\"]) # link SCF and KC conversion\n",
        "\n",
        "\n",
        "# KC screen node:\n",
        "kc_screen = wt.nodes.new(kcw_calcjob, name=\"kc_screen\")\n",
        "kc_screen.set(\n",
        "    {\n",
        "        \"code\": kcw_code,\n",
        "        \"parameters\": orm.Dict(kc_screen_params),\n",
        "        \"metadata\": metadata,\n",
        "    }\n",
        ")\n",
        "wt.links.new(kc_conv.outputs[\"remote_folder\"], kc_screen.inputs[\"parent_folder\"]) # link KC conversion and KC screen\n",
        "\n",
        "\n",
        "# KC ham node:\n",
        "kc_ham = wt.nodes.new(kcw_calcjob, name=\"kc_ham\")\n",
        "kc_ham.set(\n",
        "    {\n",
        "        \"code\": kcw_code,\n",
        "        \"parameters\": orm.Dict(kc_ham_params),\n",
        "        \"metadata\": metadata,\n",
        "    }\n",
        ")\n",
        "wt.links.new(kc_screen.outputs[\"remote_folder\"], kc_ham.inputs[\"parent_folder\"]) # link KC screen and KC ham"
      ]
    },
    {
      "cell_type": "code",
      "execution_count": 63,
      "metadata": {},
      "outputs": [
        {
          "name": "stdout",
          "output_type": "stream",
          "text": [
            "WorkTree node created, PK: 1178\n"
          ]
        }
      ],
      "source": [
        "wt.submit(wait=True)"
      ]
    },
    {
      "cell_type": "code",
      "execution_count": null,
      "metadata": {},
      "outputs": [
        {
          "ename": "",
          "evalue": "",
          "output_type": "error",
          "traceback": [
            "\u001b[1;31mRunning cells with '/usr/bin/python3' requires the ipykernel package.\n",
            "\u001b[1;31mRun the following command to install 'ipykernel' into the Python environment. \n",
            "\u001b[1;31mCommand: '/usr/bin/python3 -m pip install ipykernel -U --user --force-reinstall'"
          ]
        }
      ],
      "source": [
        "!verdi process report 1178"
      ]
    },
    {
      "cell_type": "code",
      "execution_count": null,
      "metadata": {},
      "outputs": [],
      "source": []
    }
  ],
  "metadata": {
    "kernelspec": {
      "display_name": "base",
      "language": "python",
      "name": "python3"
    },
    "language_info": {
      "codemirror_mode": {
        "name": "ipython",
        "version": 3
      },
      "file_extension": ".py",
      "mimetype": "text/x-python",
      "name": "python",
      "nbconvert_exporter": "python",
      "pygments_lexer": "ipython3",
      "version": "3.9.13"
    }
  },
  "nbformat": 4,
  "nbformat_minor": 2
}
